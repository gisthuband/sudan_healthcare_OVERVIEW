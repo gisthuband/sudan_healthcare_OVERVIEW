{
 "cells": [
  {
   "cell_type": "markdown",
   "id": "22ef41f2-2ed7-47b7-af47-183c2254ee3b",
   "metadata": {},
   "source": [
    "This notebook will be dedicated towards:\n",
    "\n",
    "1.) The yearly outbreak of malaria information from Sudan, South Sudan, Chad, and Ethiopia from 2000 -2022 (using 60.4 cases as the threshold for outbreak)\n",
    "https://www.who.int/data/gho/data/themes/malaria \n",
    "\n",
    "2.) Gain NDVI and NDWI information from all four listed countries using Sentinel Data \n",
    "https://github.com/OmdenaAI/SudanChapter_AnalyzeHealthcareAccessibility/tree/main/04_Data_analysis/final_data_folder\n",
    "https://github.com/OmdenaAI/SudanChapter_AnalyzeHealthcareAccessibility/tree/main/04_Data_analysis/Geographic/final_datasets\n",
    "\n",
    "3.) Model the data and test it... with and without including country labels\n",
    "--Logistic Regression\n",
    "--Random Forest\n",
    "--Neural Network"
   ]
  },
  {
   "cell_type": "markdown",
   "id": "2685c64d-26b7-4733-8980-51295bff87a7",
   "metadata": {},
   "source": [
    "Imports"
   ]
  },
  {
   "cell_type": "code",
   "execution_count": 117,
   "id": "e2670902-6830-4cd8-a251-0c472c37665b",
   "metadata": {},
   "outputs": [],
   "source": [
    "import pandas as pd\n",
    "import numpy as np\n",
    "import matplotlib.pyplot as plt\n",
    "import seaborn as sns\n",
    "from datetime import date, timedelta\n",
    "import prophet"
   ]
  },
  {
   "cell_type": "markdown",
   "id": "0eb3b69b-d2d9-45ff-92c4-8c1058ffd574",
   "metadata": {},
   "source": [
    "1.) Yearly outbreak information"
   ]
  },
  {
   "cell_type": "code",
   "execution_count": 6,
   "id": "cc42447b-b8fc-4045-9a25-e8bd86e6ac50",
   "metadata": {},
   "outputs": [],
   "source": [
    "df_mal = pd.read_csv('Desktop/OMDENA_FINAL_DATASETS/malaria_cases.csv')"
   ]
  },
  {
   "cell_type": "code",
   "execution_count": 8,
   "id": "fb3e3ab4-5d27-4177-8ff6-55f7a22719fb",
   "metadata": {},
   "outputs": [
    {
     "data": {
      "text/html": [
       "<div>\n",
       "<style scoped>\n",
       "    .dataframe tbody tr th:only-of-type {\n",
       "        vertical-align: middle;\n",
       "    }\n",
       "\n",
       "    .dataframe tbody tr th {\n",
       "        vertical-align: top;\n",
       "    }\n",
       "\n",
       "    .dataframe thead th {\n",
       "        text-align: right;\n",
       "    }\n",
       "</style>\n",
       "<table border=\"1\" class=\"dataframe\">\n",
       "  <thead>\n",
       "    <tr style=\"text-align: right;\">\n",
       "      <th></th>\n",
       "      <th>IND_ID</th>\n",
       "      <th>IND_CODE</th>\n",
       "      <th>IND_UUID</th>\n",
       "      <th>IND_PER_CODE</th>\n",
       "      <th>DIM_TIME</th>\n",
       "      <th>DIM_TIME_TYPE</th>\n",
       "      <th>DIM_GEO_CODE_M49</th>\n",
       "      <th>DIM_GEO_CODE_TYPE</th>\n",
       "      <th>DIM_PUBLISH_STATE_CODE</th>\n",
       "      <th>IND_NAME</th>\n",
       "      <th>GEO_NAME_SHORT</th>\n",
       "      <th>RATE_PER_1000_N</th>\n",
       "      <th>RATE_PER_1000_NL</th>\n",
       "      <th>RATE_PER_1000_NU</th>\n",
       "    </tr>\n",
       "  </thead>\n",
       "  <tbody>\n",
       "    <tr>\n",
       "      <th>0</th>\n",
       "      <td>442CEA8MALARIA_EST_INCIDENCE</td>\n",
       "      <td>MALARIA_EST_INCIDENCE</td>\n",
       "      <td>442CEA8</td>\n",
       "      <td>MALARIA_EST_INCIDENCE</td>\n",
       "      <td>2012</td>\n",
       "      <td>YEAR</td>\n",
       "      <td>9</td>\n",
       "      <td>REGION</td>\n",
       "      <td>PUBLISHED</td>\n",
       "      <td>Malaria cases</td>\n",
       "      <td>Oceania</td>\n",
       "      <td>148.12022</td>\n",
       "      <td>54.17984</td>\n",
       "      <td>293.38486</td>\n",
       "    </tr>\n",
       "    <tr>\n",
       "      <th>1</th>\n",
       "      <td>442CEA8MALARIA_EST_INCIDENCE</td>\n",
       "      <td>MALARIA_EST_INCIDENCE</td>\n",
       "      <td>442CEA8</td>\n",
       "      <td>MALARIA_EST_INCIDENCE</td>\n",
       "      <td>2011</td>\n",
       "      <td>YEAR</td>\n",
       "      <td>15</td>\n",
       "      <td>REGION</td>\n",
       "      <td>PUBLISHED</td>\n",
       "      <td>Malaria cases</td>\n",
       "      <td>Northern Africa</td>\n",
       "      <td>7.06374</td>\n",
       "      <td>5.22736</td>\n",
       "      <td>9.32541</td>\n",
       "    </tr>\n",
       "    <tr>\n",
       "      <th>2</th>\n",
       "      <td>442CEA8MALARIA_EST_INCIDENCE</td>\n",
       "      <td>MALARIA_EST_INCIDENCE</td>\n",
       "      <td>442CEA8</td>\n",
       "      <td>MALARIA_EST_INCIDENCE</td>\n",
       "      <td>2010</td>\n",
       "      <td>YEAR</td>\n",
       "      <td>18</td>\n",
       "      <td>REGION</td>\n",
       "      <td>PUBLISHED</td>\n",
       "      <td>Malaria cases</td>\n",
       "      <td>Southern Africa</td>\n",
       "      <td>1.53955</td>\n",
       "      <td>1.27314</td>\n",
       "      <td>1.98855</td>\n",
       "    </tr>\n",
       "    <tr>\n",
       "      <th>3</th>\n",
       "      <td>442CEA8MALARIA_EST_INCIDENCE</td>\n",
       "      <td>MALARIA_EST_INCIDENCE</td>\n",
       "      <td>442CEA8</td>\n",
       "      <td>MALARIA_EST_INCIDENCE</td>\n",
       "      <td>2005</td>\n",
       "      <td>YEAR</td>\n",
       "      <td>31</td>\n",
       "      <td>COUNTRY</td>\n",
       "      <td>PUBLISHED</td>\n",
       "      <td>Malaria cases</td>\n",
       "      <td>Azerbaijan</td>\n",
       "      <td>1.21551</td>\n",
       "      <td>1.21551</td>\n",
       "      <td>1.21551</td>\n",
       "    </tr>\n",
       "    <tr>\n",
       "      <th>4</th>\n",
       "      <td>442CEA8MALARIA_EST_INCIDENCE</td>\n",
       "      <td>MALARIA_EST_INCIDENCE</td>\n",
       "      <td>442CEA8</td>\n",
       "      <td>MALARIA_EST_INCIDENCE</td>\n",
       "      <td>2012</td>\n",
       "      <td>YEAR</td>\n",
       "      <td>800</td>\n",
       "      <td>COUNTRY</td>\n",
       "      <td>PUBLISHED</td>\n",
       "      <td>Malaria cases</td>\n",
       "      <td>Uganda</td>\n",
       "      <td>376.55597</td>\n",
       "      <td>296.59672</td>\n",
       "      <td>471.17035</td>\n",
       "    </tr>\n",
       "  </tbody>\n",
       "</table>\n",
       "</div>"
      ],
      "text/plain": [
       "                         IND_ID               IND_CODE IND_UUID  \\\n",
       "0  442CEA8MALARIA_EST_INCIDENCE  MALARIA_EST_INCIDENCE  442CEA8   \n",
       "1  442CEA8MALARIA_EST_INCIDENCE  MALARIA_EST_INCIDENCE  442CEA8   \n",
       "2  442CEA8MALARIA_EST_INCIDENCE  MALARIA_EST_INCIDENCE  442CEA8   \n",
       "3  442CEA8MALARIA_EST_INCIDENCE  MALARIA_EST_INCIDENCE  442CEA8   \n",
       "4  442CEA8MALARIA_EST_INCIDENCE  MALARIA_EST_INCIDENCE  442CEA8   \n",
       "\n",
       "            IND_PER_CODE  DIM_TIME DIM_TIME_TYPE  DIM_GEO_CODE_M49  \\\n",
       "0  MALARIA_EST_INCIDENCE      2012          YEAR                 9   \n",
       "1  MALARIA_EST_INCIDENCE      2011          YEAR                15   \n",
       "2  MALARIA_EST_INCIDENCE      2010          YEAR                18   \n",
       "3  MALARIA_EST_INCIDENCE      2005          YEAR                31   \n",
       "4  MALARIA_EST_INCIDENCE      2012          YEAR               800   \n",
       "\n",
       "  DIM_GEO_CODE_TYPE DIM_PUBLISH_STATE_CODE       IND_NAME   GEO_NAME_SHORT  \\\n",
       "0            REGION              PUBLISHED  Malaria cases          Oceania   \n",
       "1            REGION              PUBLISHED  Malaria cases  Northern Africa   \n",
       "2            REGION              PUBLISHED  Malaria cases  Southern Africa   \n",
       "3           COUNTRY              PUBLISHED  Malaria cases       Azerbaijan   \n",
       "4           COUNTRY              PUBLISHED  Malaria cases           Uganda   \n",
       "\n",
       "   RATE_PER_1000_N  RATE_PER_1000_NL  RATE_PER_1000_NU  \n",
       "0        148.12022          54.17984         293.38486  \n",
       "1          7.06374           5.22736           9.32541  \n",
       "2          1.53955           1.27314           1.98855  \n",
       "3          1.21551           1.21551           1.21551  \n",
       "4        376.55597         296.59672         471.17035  "
      ]
     },
     "execution_count": 8,
     "metadata": {},
     "output_type": "execute_result"
    }
   ],
   "source": [
    "df_mal.head()"
   ]
  },
  {
   "cell_type": "code",
   "execution_count": 11,
   "id": "757eaad1-8333-4a3f-8d68-c1e19d4f7ab0",
   "metadata": {},
   "outputs": [
    {
     "data": {
      "text/plain": [
       "(3588, 14)"
      ]
     },
     "execution_count": 11,
     "metadata": {},
     "output_type": "execute_result"
    }
   ],
   "source": [
    "df_mal.shape"
   ]
  },
  {
   "cell_type": "code",
   "execution_count": 13,
   "id": "638ab88f-f0b7-4ab3-aa47-0dd600f210c2",
   "metadata": {},
   "outputs": [],
   "source": [
    "countries = ['Sudan','Chad','South Sudan','Ethiopia']"
   ]
  },
  {
   "cell_type": "code",
   "execution_count": 15,
   "id": "dd8196f2-b10f-49e2-ae2a-f9aa891886ed",
   "metadata": {},
   "outputs": [],
   "source": [
    "df_mal = df_mal[df_mal['GEO_NAME_SHORT'].isin(countries)]"
   ]
  },
  {
   "cell_type": "code",
   "execution_count": 17,
   "id": "ff7cdc66-06b5-42dc-a36b-26dbd37b713e",
   "metadata": {},
   "outputs": [
    {
     "data": {
      "text/plain": [
       "(92, 14)"
      ]
     },
     "execution_count": 17,
     "metadata": {},
     "output_type": "execute_result"
    }
   ],
   "source": [
    "df_mal.shape"
   ]
  },
  {
   "cell_type": "code",
   "execution_count": 25,
   "id": "6e14d68d-1640-41b0-b237-fe30753a349a",
   "metadata": {},
   "outputs": [
    {
     "data": {
      "text/plain": [
       "array([2020, 2005, 2007, 2009, 2013, 2010, 2011, 2018, 2006, 2016, 2002,\n",
       "       2017, 2008, 2003, 2015, 2004, 2001, 2000, 2014, 2012, 2022, 2021,\n",
       "       2019])"
      ]
     },
     "execution_count": 25,
     "metadata": {},
     "output_type": "execute_result"
    }
   ],
   "source": [
    "df_mal['DIM_TIME'].unique()"
   ]
  },
  {
   "cell_type": "code",
   "execution_count": 27,
   "id": "5e5f2415-c286-42ba-89a5-12d24b109947",
   "metadata": {},
   "outputs": [],
   "source": [
    "df_melt = pd.melt(df_mal, id_vars=['GEO_NAME_SHORT','DIM_TIME'], value_vars='RATE_PER_1000_N')"
   ]
  },
  {
   "cell_type": "code",
   "execution_count": 39,
   "id": "16ffbb62-471c-409f-822a-966ffdba5dcd",
   "metadata": {},
   "outputs": [],
   "source": [
    "df_melt = df_melt.sort_values(['GEO_NAME_SHORT','DIM_TIME'])"
   ]
  },
  {
   "cell_type": "code",
   "execution_count": 51,
   "id": "b2c17bc2-772f-43cc-be4b-efc0d3111ed7",
   "metadata": {},
   "outputs": [],
   "source": [
    "df_melt = df_melt.rename(columns={'value':'Incidence_per_1000_people'})"
   ]
  },
  {
   "cell_type": "code",
   "execution_count": 53,
   "id": "9649078f-0f8d-4b8a-94ab-789176501162",
   "metadata": {},
   "outputs": [
    {
     "data": {
      "text/html": [
       "<div>\n",
       "<style scoped>\n",
       "    .dataframe tbody tr th:only-of-type {\n",
       "        vertical-align: middle;\n",
       "    }\n",
       "\n",
       "    .dataframe tbody tr th {\n",
       "        vertical-align: top;\n",
       "    }\n",
       "\n",
       "    .dataframe thead th {\n",
       "        text-align: right;\n",
       "    }\n",
       "</style>\n",
       "<table border=\"1\" class=\"dataframe\">\n",
       "  <thead>\n",
       "    <tr style=\"text-align: right;\">\n",
       "      <th></th>\n",
       "      <th>GEO_NAME_SHORT</th>\n",
       "      <th>DIM_TIME</th>\n",
       "      <th>Incidence_per_1000_people</th>\n",
       "    </tr>\n",
       "  </thead>\n",
       "  <tbody>\n",
       "    <tr>\n",
       "      <th>0</th>\n",
       "      <td>Chad</td>\n",
       "      <td>2000</td>\n",
       "      <td>269.14078</td>\n",
       "    </tr>\n",
       "    <tr>\n",
       "      <th>1</th>\n",
       "      <td>Chad</td>\n",
       "      <td>2001</td>\n",
       "      <td>272.50860</td>\n",
       "    </tr>\n",
       "    <tr>\n",
       "      <th>2</th>\n",
       "      <td>Chad</td>\n",
       "      <td>2002</td>\n",
       "      <td>239.03563</td>\n",
       "    </tr>\n",
       "    <tr>\n",
       "      <th>3</th>\n",
       "      <td>Chad</td>\n",
       "      <td>2003</td>\n",
       "      <td>235.30286</td>\n",
       "    </tr>\n",
       "    <tr>\n",
       "      <th>4</th>\n",
       "      <td>Chad</td>\n",
       "      <td>2004</td>\n",
       "      <td>232.20829</td>\n",
       "    </tr>\n",
       "  </tbody>\n",
       "</table>\n",
       "</div>"
      ],
      "text/plain": [
       "  GEO_NAME_SHORT  DIM_TIME  Incidence_per_1000_people\n",
       "0           Chad      2000                  269.14078\n",
       "1           Chad      2001                  272.50860\n",
       "2           Chad      2002                  239.03563\n",
       "3           Chad      2003                  235.30286\n",
       "4           Chad      2004                  232.20829"
      ]
     },
     "execution_count": 53,
     "metadata": {},
     "output_type": "execute_result"
    }
   ],
   "source": [
    "df_melt.head()"
   ]
  },
  {
   "cell_type": "code",
   "execution_count": 43,
   "id": "69344fc9-6c41-431d-989b-7323b2ee82d1",
   "metadata": {},
   "outputs": [],
   "source": [
    "df_melt = df_melt.drop(columns='variable')"
   ]
  },
  {
   "cell_type": "code",
   "execution_count": 45,
   "id": "76c7ba35-9302-40ca-bd23-8b5662cbf663",
   "metadata": {},
   "outputs": [],
   "source": [
    "df_melt = df_melt.reset_index(drop=True)"
   ]
  },
  {
   "cell_type": "code",
   "execution_count": 55,
   "id": "55c9bbdf-0878-41d3-b468-911523b801e7",
   "metadata": {},
   "outputs": [],
   "source": [
    "def outbreak_label(df):\n",
    "\n",
    "    out_list = []\n",
    "\n",
    "    for i in range(len(df)):\n",
    "        if df.loc[i,'Incidence_per_1000_people'] >= 60.4:\n",
    "            out_list.append(1)\n",
    "\n",
    "        else:\n",
    "            out_list.append(0)\n",
    "\n",
    "    out_frame = pd.DataFrame({'outbreak':out_list})\n",
    "\n",
    "\n",
    "    return out_frame"
   ]
  },
  {
   "cell_type": "code",
   "execution_count": 57,
   "id": "e15bd018-ac50-44ab-8ecd-d0d94a41f8d6",
   "metadata": {},
   "outputs": [],
   "source": [
    "outbreak_frame = outbreak_label(df_melt)"
   ]
  },
  {
   "cell_type": "code",
   "execution_count": 61,
   "id": "ee49e7bb-2b25-45b0-be45-350368ce26a0",
   "metadata": {},
   "outputs": [
    {
     "data": {
      "text/html": [
       "<div>\n",
       "<style scoped>\n",
       "    .dataframe tbody tr th:only-of-type {\n",
       "        vertical-align: middle;\n",
       "    }\n",
       "\n",
       "    .dataframe tbody tr th {\n",
       "        vertical-align: top;\n",
       "    }\n",
       "\n",
       "    .dataframe thead th {\n",
       "        text-align: right;\n",
       "    }\n",
       "</style>\n",
       "<table border=\"1\" class=\"dataframe\">\n",
       "  <thead>\n",
       "    <tr style=\"text-align: right;\">\n",
       "      <th></th>\n",
       "      <th>outbreak</th>\n",
       "    </tr>\n",
       "  </thead>\n",
       "  <tbody>\n",
       "    <tr>\n",
       "      <th>0</th>\n",
       "      <td>1</td>\n",
       "    </tr>\n",
       "    <tr>\n",
       "      <th>1</th>\n",
       "      <td>1</td>\n",
       "    </tr>\n",
       "    <tr>\n",
       "      <th>2</th>\n",
       "      <td>1</td>\n",
       "    </tr>\n",
       "    <tr>\n",
       "      <th>3</th>\n",
       "      <td>1</td>\n",
       "    </tr>\n",
       "    <tr>\n",
       "      <th>4</th>\n",
       "      <td>1</td>\n",
       "    </tr>\n",
       "  </tbody>\n",
       "</table>\n",
       "</div>"
      ],
      "text/plain": [
       "   outbreak\n",
       "0         1\n",
       "1         1\n",
       "2         1\n",
       "3         1\n",
       "4         1"
      ]
     },
     "execution_count": 61,
     "metadata": {},
     "output_type": "execute_result"
    }
   ],
   "source": [
    "outbreak_frame.head()"
   ]
  },
  {
   "cell_type": "code",
   "execution_count": 63,
   "id": "d3429496-6fb1-46c1-8adc-689fc2c331de",
   "metadata": {},
   "outputs": [],
   "source": [
    "outbreak_df = pd.concat([df_melt, outbreak_frame], axis=1)"
   ]
  },
  {
   "cell_type": "code",
   "execution_count": 65,
   "id": "7cc251a9-6777-41f2-ae7b-c923b96aeecb",
   "metadata": {},
   "outputs": [
    {
     "data": {
      "text/html": [
       "<div>\n",
       "<style scoped>\n",
       "    .dataframe tbody tr th:only-of-type {\n",
       "        vertical-align: middle;\n",
       "    }\n",
       "\n",
       "    .dataframe tbody tr th {\n",
       "        vertical-align: top;\n",
       "    }\n",
       "\n",
       "    .dataframe thead th {\n",
       "        text-align: right;\n",
       "    }\n",
       "</style>\n",
       "<table border=\"1\" class=\"dataframe\">\n",
       "  <thead>\n",
       "    <tr style=\"text-align: right;\">\n",
       "      <th></th>\n",
       "      <th>GEO_NAME_SHORT</th>\n",
       "      <th>DIM_TIME</th>\n",
       "      <th>Incidence_per_1000_people</th>\n",
       "      <th>outbreak</th>\n",
       "    </tr>\n",
       "  </thead>\n",
       "  <tbody>\n",
       "    <tr>\n",
       "      <th>0</th>\n",
       "      <td>Chad</td>\n",
       "      <td>2000</td>\n",
       "      <td>269.14078</td>\n",
       "      <td>1</td>\n",
       "    </tr>\n",
       "    <tr>\n",
       "      <th>1</th>\n",
       "      <td>Chad</td>\n",
       "      <td>2001</td>\n",
       "      <td>272.50860</td>\n",
       "      <td>1</td>\n",
       "    </tr>\n",
       "    <tr>\n",
       "      <th>2</th>\n",
       "      <td>Chad</td>\n",
       "      <td>2002</td>\n",
       "      <td>239.03563</td>\n",
       "      <td>1</td>\n",
       "    </tr>\n",
       "    <tr>\n",
       "      <th>3</th>\n",
       "      <td>Chad</td>\n",
       "      <td>2003</td>\n",
       "      <td>235.30286</td>\n",
       "      <td>1</td>\n",
       "    </tr>\n",
       "    <tr>\n",
       "      <th>4</th>\n",
       "      <td>Chad</td>\n",
       "      <td>2004</td>\n",
       "      <td>232.20829</td>\n",
       "      <td>1</td>\n",
       "    </tr>\n",
       "  </tbody>\n",
       "</table>\n",
       "</div>"
      ],
      "text/plain": [
       "  GEO_NAME_SHORT  DIM_TIME  Incidence_per_1000_people  outbreak\n",
       "0           Chad      2000                  269.14078         1\n",
       "1           Chad      2001                  272.50860         1\n",
       "2           Chad      2002                  239.03563         1\n",
       "3           Chad      2003                  235.30286         1\n",
       "4           Chad      2004                  232.20829         1"
      ]
     },
     "execution_count": 65,
     "metadata": {},
     "output_type": "execute_result"
    }
   ],
   "source": [
    "outbreak_df.head()"
   ]
  },
  {
   "cell_type": "code",
   "execution_count": 67,
   "id": "e89e7f0b-6f8b-4feb-a27b-6ff772e1fcd1",
   "metadata": {},
   "outputs": [
    {
     "data": {
      "text/html": [
       "<div>\n",
       "<style scoped>\n",
       "    .dataframe tbody tr th:only-of-type {\n",
       "        vertical-align: middle;\n",
       "    }\n",
       "\n",
       "    .dataframe tbody tr th {\n",
       "        vertical-align: top;\n",
       "    }\n",
       "\n",
       "    .dataframe thead th {\n",
       "        text-align: right;\n",
       "    }\n",
       "</style>\n",
       "<table border=\"1\" class=\"dataframe\">\n",
       "  <thead>\n",
       "    <tr style=\"text-align: right;\">\n",
       "      <th></th>\n",
       "      <th>DIM_TIME</th>\n",
       "      <th>Incidence_per_1000_people</th>\n",
       "      <th>outbreak</th>\n",
       "    </tr>\n",
       "    <tr>\n",
       "      <th>GEO_NAME_SHORT</th>\n",
       "      <th></th>\n",
       "      <th></th>\n",
       "      <th></th>\n",
       "    </tr>\n",
       "  </thead>\n",
       "  <tbody>\n",
       "    <tr>\n",
       "      <th>Chad</th>\n",
       "      <td>46253</td>\n",
       "      <td>5211.45941</td>\n",
       "      <td>23</td>\n",
       "    </tr>\n",
       "    <tr>\n",
       "      <th>Ethiopia</th>\n",
       "      <td>46253</td>\n",
       "      <td>3726.08846</td>\n",
       "      <td>19</td>\n",
       "    </tr>\n",
       "    <tr>\n",
       "      <th>South Sudan</th>\n",
       "      <td>46253</td>\n",
       "      <td>6699.54248</td>\n",
       "      <td>23</td>\n",
       "    </tr>\n",
       "    <tr>\n",
       "      <th>Sudan</th>\n",
       "      <td>46253</td>\n",
       "      <td>1253.20170</td>\n",
       "      <td>8</td>\n",
       "    </tr>\n",
       "  </tbody>\n",
       "</table>\n",
       "</div>"
      ],
      "text/plain": [
       "                DIM_TIME  Incidence_per_1000_people  outbreak\n",
       "GEO_NAME_SHORT                                               \n",
       "Chad               46253                 5211.45941        23\n",
       "Ethiopia           46253                 3726.08846        19\n",
       "South Sudan        46253                 6699.54248        23\n",
       "Sudan              46253                 1253.20170         8"
      ]
     },
     "execution_count": 67,
     "metadata": {},
     "output_type": "execute_result"
    }
   ],
   "source": [
    "outbreak_df.groupby('GEO_NAME_SHORT').sum()"
   ]
  },
  {
   "cell_type": "markdown",
   "id": "684922de-d1c9-463f-9c11-19d67a5bc6c5",
   "metadata": {},
   "source": [
    "Now we have the four countries and their outbreak labels"
   ]
  },
  {
   "cell_type": "markdown",
   "id": "f89d729a-3e66-4e2f-ac9c-55144071436e",
   "metadata": {},
   "source": [
    "2.)Extract the NDVI and NDWI information from the three countries (South Sudan, Ethiopia, and Chad)... Then use existing code to get NDVI and NDWI values from Sudan"
   ]
  },
  {
   "cell_type": "code",
   "execution_count": 127,
   "id": "af075043-8a56-4547-8528-0339a3688652",
   "metadata": {},
   "outputs": [],
   "source": [
    "from prophet import Prophet"
   ]
  },
  {
   "cell_type": "code",
   "execution_count": 77,
   "id": "f02d26e8-c106-4802-9732-e2b9452f7766",
   "metadata": {},
   "outputs": [],
   "source": [
    "df_et = pd.read_csv('desktop/OMDENA_FINAL_DATASETS/eth_geographic_yearly.csv')"
   ]
  },
  {
   "cell_type": "code",
   "execution_count": 79,
   "id": "9b26626c-d121-40a1-a679-fcdbde91a717",
   "metadata": {},
   "outputs": [
    {
     "data": {
      "text/html": [
       "<div>\n",
       "<style scoped>\n",
       "    .dataframe tbody tr th:only-of-type {\n",
       "        vertical-align: middle;\n",
       "    }\n",
       "\n",
       "    .dataframe tbody tr th {\n",
       "        vertical-align: top;\n",
       "    }\n",
       "\n",
       "    .dataframe thead th {\n",
       "        text-align: right;\n",
       "    }\n",
       "</style>\n",
       "<table border=\"1\" class=\"dataframe\">\n",
       "  <thead>\n",
       "    <tr style=\"text-align: right;\">\n",
       "      <th></th>\n",
       "      <th>year</th>\n",
       "      <th>week</th>\n",
       "      <th>state</th>\n",
       "      <th>district</th>\n",
       "      <th>district_subdivision</th>\n",
       "      <th>ndvi_vegetation_index</th>\n",
       "      <th>ndvi_recording_exact_date</th>\n",
       "      <th>ndwi_water_content_index</th>\n",
       "      <th>ndwi_recording_exact_date</th>\n",
       "    </tr>\n",
       "  </thead>\n",
       "  <tbody>\n",
       "    <tr>\n",
       "      <th>0</th>\n",
       "      <td>2015</td>\n",
       "      <td>43</td>\n",
       "      <td>Afar</td>\n",
       "      <td>AfarZone2</td>\n",
       "      <td>AbAla</td>\n",
       "      <td>0.002469</td>\n",
       "      <td>2015-10-20</td>\n",
       "      <td>-0.011014</td>\n",
       "      <td>2015-10-20</td>\n",
       "    </tr>\n",
       "    <tr>\n",
       "      <th>1</th>\n",
       "      <td>2015</td>\n",
       "      <td>43</td>\n",
       "      <td>Oromia</td>\n",
       "      <td>HoroGuduru</td>\n",
       "      <td>Ababo</td>\n",
       "      <td>0.002286</td>\n",
       "      <td>2015-10-20</td>\n",
       "      <td>-0.008143</td>\n",
       "      <td>2015-10-20</td>\n",
       "    </tr>\n",
       "    <tr>\n",
       "      <th>2</th>\n",
       "      <td>2015</td>\n",
       "      <td>43</td>\n",
       "      <td>Oromia</td>\n",
       "      <td>HoroGuduru</td>\n",
       "      <td>AbayChomen</td>\n",
       "      <td>0.002286</td>\n",
       "      <td>2015-10-20</td>\n",
       "      <td>-0.008143</td>\n",
       "      <td>2015-10-20</td>\n",
       "    </tr>\n",
       "    <tr>\n",
       "      <th>3</th>\n",
       "      <td>2015</td>\n",
       "      <td>43</td>\n",
       "      <td>Oromia</td>\n",
       "      <td>Borena</td>\n",
       "      <td>Abaya</td>\n",
       "      <td>0.002286</td>\n",
       "      <td>2015-10-20</td>\n",
       "      <td>-0.008143</td>\n",
       "      <td>2015-10-20</td>\n",
       "    </tr>\n",
       "    <tr>\n",
       "      <th>4</th>\n",
       "      <td>2015</td>\n",
       "      <td>43</td>\n",
       "      <td>Oromia</td>\n",
       "      <td>HoroGuduru</td>\n",
       "      <td>AbeDongoro</td>\n",
       "      <td>0.002286</td>\n",
       "      <td>2015-10-20</td>\n",
       "      <td>-0.008143</td>\n",
       "      <td>2015-10-20</td>\n",
       "    </tr>\n",
       "  </tbody>\n",
       "</table>\n",
       "</div>"
      ],
      "text/plain": [
       "   year  week   state    district district_subdivision  ndvi_vegetation_index  \\\n",
       "0  2015    43    Afar   AfarZone2                AbAla               0.002469   \n",
       "1  2015    43  Oromia  HoroGuduru                Ababo               0.002286   \n",
       "2  2015    43  Oromia  HoroGuduru           AbayChomen               0.002286   \n",
       "3  2015    43  Oromia      Borena                Abaya               0.002286   \n",
       "4  2015    43  Oromia  HoroGuduru           AbeDongoro               0.002286   \n",
       "\n",
       "  ndvi_recording_exact_date  ndwi_water_content_index  \\\n",
       "0                2015-10-20                 -0.011014   \n",
       "1                2015-10-20                 -0.008143   \n",
       "2                2015-10-20                 -0.008143   \n",
       "3                2015-10-20                 -0.008143   \n",
       "4                2015-10-20                 -0.008143   \n",
       "\n",
       "  ndwi_recording_exact_date  \n",
       "0                2015-10-20  \n",
       "1                2015-10-20  \n",
       "2                2015-10-20  \n",
       "3                2015-10-20  \n",
       "4                2015-10-20  "
      ]
     },
     "execution_count": 79,
     "metadata": {},
     "output_type": "execute_result"
    }
   ],
   "source": [
    "df_et.head()"
   ]
  },
  {
   "cell_type": "code",
   "execution_count": 87,
   "id": "a8b1c05f-8c09-43c2-abe5-6181b9e38dc4",
   "metadata": {},
   "outputs": [],
   "source": [
    "df_ch = pd.read_csv('desktop/OMDENA_FINAL_DATASETS/tcd_geographic_yearly.csv')"
   ]
  },
  {
   "cell_type": "code",
   "execution_count": 89,
   "id": "525bd5ea-adf3-4b6f-b727-3e5ae24e289f",
   "metadata": {},
   "outputs": [
    {
     "data": {
      "text/html": [
       "<div>\n",
       "<style scoped>\n",
       "    .dataframe tbody tr th:only-of-type {\n",
       "        vertical-align: middle;\n",
       "    }\n",
       "\n",
       "    .dataframe tbody tr th {\n",
       "        vertical-align: top;\n",
       "    }\n",
       "\n",
       "    .dataframe thead th {\n",
       "        text-align: right;\n",
       "    }\n",
       "</style>\n",
       "<table border=\"1\" class=\"dataframe\">\n",
       "  <thead>\n",
       "    <tr style=\"text-align: right;\">\n",
       "      <th></th>\n",
       "      <th>year</th>\n",
       "      <th>week</th>\n",
       "      <th>state</th>\n",
       "      <th>district</th>\n",
       "      <th>district_subdivision</th>\n",
       "      <th>ndvi_vegetation_index</th>\n",
       "      <th>ndvi_recording_exact_date</th>\n",
       "      <th>ndwi_water_content_index</th>\n",
       "      <th>ndwi_recording_exact_date</th>\n",
       "    </tr>\n",
       "  </thead>\n",
       "  <tbody>\n",
       "    <tr>\n",
       "      <th>0</th>\n",
       "      <td>2015</td>\n",
       "      <td>43</td>\n",
       "      <td>Ouaddaï</td>\n",
       "      <td>DjourfAlAhmar</td>\n",
       "      <td>Abker</td>\n",
       "      <td>0.003521</td>\n",
       "      <td>2015-10-20</td>\n",
       "      <td>-0.009865</td>\n",
       "      <td>2015-10-20</td>\n",
       "    </tr>\n",
       "    <tr>\n",
       "      <th>1</th>\n",
       "      <td>2015</td>\n",
       "      <td>43</td>\n",
       "      <td>WadiFira</td>\n",
       "      <td>Biltine</td>\n",
       "      <td>Abou-Charib-I</td>\n",
       "      <td>0.003521</td>\n",
       "      <td>2015-10-20</td>\n",
       "      <td>-0.009865</td>\n",
       "      <td>2015-10-20</td>\n",
       "    </tr>\n",
       "    <tr>\n",
       "      <th>2</th>\n",
       "      <td>2015</td>\n",
       "      <td>43</td>\n",
       "      <td>WadiFira</td>\n",
       "      <td>Biltine</td>\n",
       "      <td>Abou-Charib-Ii</td>\n",
       "      <td>0.003521</td>\n",
       "      <td>2015-10-20</td>\n",
       "      <td>-0.009865</td>\n",
       "      <td>2015-10-20</td>\n",
       "    </tr>\n",
       "    <tr>\n",
       "      <th>3</th>\n",
       "      <td>2015</td>\n",
       "      <td>43</td>\n",
       "      <td>Hadjer-Lamis</td>\n",
       "      <td>HarazeAlBiar</td>\n",
       "      <td>Afrouk</td>\n",
       "      <td>0.002676</td>\n",
       "      <td>2015-10-20</td>\n",
       "      <td>-0.008848</td>\n",
       "      <td>2015-10-20</td>\n",
       "    </tr>\n",
       "    <tr>\n",
       "      <th>4</th>\n",
       "      <td>2015</td>\n",
       "      <td>43</td>\n",
       "      <td>Moyen-Chari</td>\n",
       "      <td>LacIro</td>\n",
       "      <td>Alako</td>\n",
       "      <td>0.000096</td>\n",
       "      <td>2015-10-20</td>\n",
       "      <td>-0.007119</td>\n",
       "      <td>2015-10-20</td>\n",
       "    </tr>\n",
       "  </tbody>\n",
       "</table>\n",
       "</div>"
      ],
      "text/plain": [
       "   year  week         state       district district_subdivision  \\\n",
       "0  2015    43       Ouaddaï  DjourfAlAhmar                Abker   \n",
       "1  2015    43      WadiFira        Biltine        Abou-Charib-I   \n",
       "2  2015    43      WadiFira        Biltine       Abou-Charib-Ii   \n",
       "3  2015    43  Hadjer-Lamis   HarazeAlBiar               Afrouk   \n",
       "4  2015    43   Moyen-Chari         LacIro                Alako   \n",
       "\n",
       "   ndvi_vegetation_index ndvi_recording_exact_date  ndwi_water_content_index  \\\n",
       "0               0.003521                2015-10-20                 -0.009865   \n",
       "1               0.003521                2015-10-20                 -0.009865   \n",
       "2               0.003521                2015-10-20                 -0.009865   \n",
       "3               0.002676                2015-10-20                 -0.008848   \n",
       "4               0.000096                2015-10-20                 -0.007119   \n",
       "\n",
       "  ndwi_recording_exact_date  \n",
       "0                2015-10-20  \n",
       "1                2015-10-20  \n",
       "2                2015-10-20  \n",
       "3                2015-10-20  \n",
       "4                2015-10-20  "
      ]
     },
     "execution_count": 89,
     "metadata": {},
     "output_type": "execute_result"
    }
   ],
   "source": [
    "df_ch.head()"
   ]
  },
  {
   "cell_type": "code",
   "execution_count": 91,
   "id": "30243872-8844-4b36-b041-0714e4fcc628",
   "metadata": {},
   "outputs": [],
   "source": [
    "df_ssd = pd.read_csv('desktop/OMDENA_FINAL_DATASETS/ssd_geographic_yearly.csv')"
   ]
  },
  {
   "cell_type": "code",
   "execution_count": 93,
   "id": "689fb97f-0d0c-4ac4-9137-62279fcd7720",
   "metadata": {},
   "outputs": [
    {
     "data": {
      "text/html": [
       "<div>\n",
       "<style scoped>\n",
       "    .dataframe tbody tr th:only-of-type {\n",
       "        vertical-align: middle;\n",
       "    }\n",
       "\n",
       "    .dataframe tbody tr th {\n",
       "        vertical-align: top;\n",
       "    }\n",
       "\n",
       "    .dataframe thead th {\n",
       "        text-align: right;\n",
       "    }\n",
       "</style>\n",
       "<table border=\"1\" class=\"dataframe\">\n",
       "  <thead>\n",
       "    <tr style=\"text-align: right;\">\n",
       "      <th></th>\n",
       "      <th>year</th>\n",
       "      <th>week</th>\n",
       "      <th>state</th>\n",
       "      <th>district</th>\n",
       "      <th>district_subdivision</th>\n",
       "      <th>ndvi_vegetation_index</th>\n",
       "      <th>ndvi_recording_exact_date</th>\n",
       "      <th>ndwi_water_content_index</th>\n",
       "      <th>ndwi_recording_exact_date</th>\n",
       "    </tr>\n",
       "  </thead>\n",
       "  <tbody>\n",
       "    <tr>\n",
       "      <th>0</th>\n",
       "      <td>2015</td>\n",
       "      <td>43</td>\n",
       "      <td>Jungoli</td>\n",
       "      <td>Ayod</td>\n",
       "      <td>Aeiud</td>\n",
       "      <td>0.00428</td>\n",
       "      <td>2015-10-20</td>\n",
       "      <td>-0.01043</td>\n",
       "      <td>2015-10-20</td>\n",
       "    </tr>\n",
       "    <tr>\n",
       "      <th>1</th>\n",
       "      <td>2015</td>\n",
       "      <td>43</td>\n",
       "      <td>Jungoli</td>\n",
       "      <td>NahrAtiem</td>\n",
       "      <td>Akoba</td>\n",
       "      <td>0.00428</td>\n",
       "      <td>2015-10-20</td>\n",
       "      <td>-0.01043</td>\n",
       "      <td>2015-10-20</td>\n",
       "    </tr>\n",
       "    <tr>\n",
       "      <th>2</th>\n",
       "      <td>2015</td>\n",
       "      <td>43</td>\n",
       "      <td>EasternEquatoria</td>\n",
       "      <td>Amatonge</td>\n",
       "      <td>Akotous</td>\n",
       "      <td>0.00428</td>\n",
       "      <td>2015-10-20</td>\n",
       "      <td>-0.01043</td>\n",
       "      <td>2015-10-20</td>\n",
       "    </tr>\n",
       "    <tr>\n",
       "      <th>3</th>\n",
       "      <td>2015</td>\n",
       "      <td>43</td>\n",
       "      <td>NorthBahr-al-Ghazal</td>\n",
       "      <td>Aweil</td>\n",
       "      <td>Aweil</td>\n",
       "      <td>0.00428</td>\n",
       "      <td>2015-10-20</td>\n",
       "      <td>-0.01043</td>\n",
       "      <td>2015-10-20</td>\n",
       "    </tr>\n",
       "    <tr>\n",
       "      <th>4</th>\n",
       "      <td>2015</td>\n",
       "      <td>43</td>\n",
       "      <td>UpperNile</td>\n",
       "      <td>Baleit</td>\n",
       "      <td>Baleit</td>\n",
       "      <td>0.00428</td>\n",
       "      <td>2015-10-20</td>\n",
       "      <td>-0.01043</td>\n",
       "      <td>2015-10-20</td>\n",
       "    </tr>\n",
       "  </tbody>\n",
       "</table>\n",
       "</div>"
      ],
      "text/plain": [
       "   year  week                state   district district_subdivision  \\\n",
       "0  2015    43              Jungoli       Ayod                Aeiud   \n",
       "1  2015    43              Jungoli  NahrAtiem                Akoba   \n",
       "2  2015    43     EasternEquatoria   Amatonge              Akotous   \n",
       "3  2015    43  NorthBahr-al-Ghazal      Aweil                Aweil   \n",
       "4  2015    43            UpperNile     Baleit               Baleit   \n",
       "\n",
       "   ndvi_vegetation_index ndvi_recording_exact_date  ndwi_water_content_index  \\\n",
       "0                0.00428                2015-10-20                  -0.01043   \n",
       "1                0.00428                2015-10-20                  -0.01043   \n",
       "2                0.00428                2015-10-20                  -0.01043   \n",
       "3                0.00428                2015-10-20                  -0.01043   \n",
       "4                0.00428                2015-10-20                  -0.01043   \n",
       "\n",
       "  ndwi_recording_exact_date  \n",
       "0                2015-10-20  \n",
       "1                2015-10-20  \n",
       "2                2015-10-20  \n",
       "3                2015-10-20  \n",
       "4                2015-10-20  "
      ]
     },
     "execution_count": 93,
     "metadata": {},
     "output_type": "execute_result"
    }
   ],
   "source": [
    "df_ssd.head()"
   ]
  },
  {
   "cell_type": "code",
   "execution_count": 517,
   "id": "ae2c26b4-c739-438a-a763-3f75a1390278",
   "metadata": {},
   "outputs": [],
   "source": [
    "def ndvi_ndwi_df_extraction(df, state):\n",
    "\n",
    "    #subselect for state that best represents the population, preferably the capital\n",
    "    #subselect for ndvi and ndwi information\n",
    "    #transform the columns and indices as appropriate\n",
    "\n",
    "    state_sub = df[df['state'] == state]\n",
    "\n",
    "    ndvi_sub = state_sub[['ndvi_recording_exact_date','ndvi_vegetation_index']]\n",
    "    ndvi_sub = ndvi_sub.rename(columns={'ndvi_recording_exact_date':'ds', 'ndvi_vegetation_index':'y'})\n",
    "    ndvi_sub = ndvi_sub.drop_duplicates(keep='first')\n",
    "    ndvi_sub = ndvi_sub.reset_index(drop=True)\n",
    "\n",
    "\n",
    "    ndwi_sub = state_sub[['ndwi_recording_exact_date', 'ndwi_water_content_index']]\n",
    "    ndwi_sub = ndwi_sub.rename(columns={'ndwi_recording_exact_date':'ds', 'ndwi_water_content_index':'y'})\n",
    "    ndwi_sub = ndwi_sub.drop_duplicates(keep='first')\n",
    "    ndwi_sub = ndwi_sub.reset_index(drop=True)\n",
    "\n",
    "\n",
    "\n",
    "    #create forecasters with the current data and then create dataframe with the forecasted information from 2000 on \n",
    "\n",
    "    \n",
    "    m_v = Prophet()\n",
    "\n",
    "    m_v.fit(ndvi_sub)\n",
    "\n",
    "\n",
    "    m_w = Prophet()\n",
    "\n",
    "    m_w.fit(ndwi_sub)\n",
    "    \n",
    "    \n",
    "    start_dt = date(2000, 1, 1)\n",
    "    end_dt = date(2015, 10, 19)\n",
    "\n",
    "    # difference between current and previous date\n",
    "    delta = timedelta(days=1)\n",
    "\n",
    "    # store the dates between two dates in a list\n",
    "    dates = []\n",
    "\n",
    "    while start_dt <= end_dt:\n",
    "    # add current date to list by converting  it to iso format\n",
    "        dates.append(start_dt.isoformat())\n",
    "    # increment start date by timedelta\n",
    "        start_dt += delta\n",
    "\n",
    "    #create date dataframe\n",
    "\n",
    "    past_dates = pd.DataFrame(data = {'ds':dates+ [x for x in ndvi_sub['ds']]})\n",
    "    \n",
    "    #create ndvi and ndwi values from fitted models\n",
    "    forecast_past_v = m_v.predict(past_dates)\n",
    "\n",
    "    forecast_past_v['ds'] = pd.to_datetime(forecast_past_v['ds'])\n",
    "\n",
    "    forecast_past_v['year'] = [x.year for x in forecast_past_v.ds]\n",
    "\n",
    "    forecast_past_v['month'] = [x.month for x in forecast_past_v.ds]\n",
    "\n",
    "    forecast_past_v = forecast_past_v.groupby(['year','month']).mean()\n",
    "\n",
    "    forecast_past_v = forecast_past_v.reset_index(drop=True)\n",
    "\n",
    "    forecast_past_v['year'] = [x.year for x in forecast_past_v.ds]\n",
    "\n",
    "    forecast_past_v['month'] = [x.month for x in forecast_past_v.ds]\n",
    "\n",
    "    state_list = []\n",
    "\n",
    "    for x in range(len(forecast_past_v)):\n",
    "        state_list.append(state)\n",
    "\n",
    "    state_df = pd.DataFrame({'state':state_list})\n",
    "\n",
    "    forecast_past_v = pd.concat([forecast_past_v[['ds','yhat','month','year']], state_df], axis=1)\n",
    "\n",
    "    forecast_past_v = forecast_past_v.rename(columns = {'yhat':'ndvi_value'})\n",
    "    \n",
    "\n",
    "    \n",
    "    forecast_past_w = m_w.predict(past_dates)\n",
    "\n",
    "    forecast_past_w['ds'] = pd.to_datetime(forecast_past_w['ds'])\n",
    "\n",
    "    forecast_past_w['year'] = [x.year for x in forecast_past_w.ds]\n",
    "\n",
    "    forecast_past_w['month'] = [x.month for x in forecast_past_w.ds]\n",
    "\n",
    "    forecast_past_w = forecast_past_w.groupby(['year','month']).mean()\n",
    "\n",
    "    forecast_past_w = forecast_past_w.reset_index(drop=True)\n",
    "\n",
    "    forecast_past_w['year'] = [x.year for x in forecast_past_w.ds]\n",
    "\n",
    "    forecast_past_w['month'] = [x.month for x in forecast_past_w.ds]\n",
    "\n",
    "    forecast_past_w = pd.concat([forecast_past_w[['ds','yhat','month','year']], state_df], axis=1)\n",
    "\n",
    "    forecast_past_w = forecast_past_w.rename(columns = {'yhat':'ndwi_value'})\n",
    "\n",
    "    #merge ndwi and ndwi values\n",
    "    \n",
    "\n",
    "    forecast_df = pd.merge(left = forecast_past_v, right = forecast_past_w,how='left', left_on = 'ds', right_on = 'ds')\n",
    "\n",
    "\n",
    "    return forecast_df"
   ]
  },
  {
   "cell_type": "markdown",
   "id": "4f56f9e7-ce32-4988-bb90-9de8ad3ae265",
   "metadata": {},
   "source": [
    "Lets use the capitals of Ethiopia (AddisAbeba), Chad (N'Djamena), and South Sudan (Juba -- in Central Equatoria state)"
   ]
  },
  {
   "cell_type": "code",
   "execution_count": 105,
   "id": "43c8b8b4-6a59-4e20-9c1c-db06afbf1e6e",
   "metadata": {},
   "outputs": [
    {
     "data": {
      "text/plain": [
       "array(['Afar', 'Oromia', 'Amhara', 'SouthernNations,Nationalities',\n",
       "       'GambelaPeoples', 'Somali', 'AddisAbeba', 'Tigray',\n",
       "       'Benshangul-Gumaz', 'DireDawa', 'HarariPeople'], dtype=object)"
      ]
     },
     "execution_count": 105,
     "metadata": {},
     "output_type": "execute_result"
    }
   ],
   "source": [
    "df_et.state.unique()"
   ]
  },
  {
   "cell_type": "code",
   "execution_count": 109,
   "id": "9e822a82-18fb-40e2-87c2-c5f911a53408",
   "metadata": {},
   "outputs": [
    {
     "data": {
      "text/plain": [
       "array(['Jungoli', 'EasternEquatoria', 'NorthBahr-al-Ghazal', 'UpperNile',\n",
       "       'Unity', 'WestEquatoria', 'Warap', 'CentralEquatoria', 'Lakes',\n",
       "       'WestBahr-al-Ghazal'], dtype=object)"
      ]
     },
     "execution_count": 109,
     "metadata": {},
     "output_type": "execute_result"
    }
   ],
   "source": [
    "df_ssd.state.unique()"
   ]
  },
  {
   "cell_type": "code",
   "execution_count": 111,
   "id": "58477045-e32c-408d-ab0f-fb4f86dc6d0c",
   "metadata": {},
   "outputs": [
    {
     "data": {
      "text/plain": [
       "array(['Ouaddaï', 'WadiFira', 'Hadjer-Lamis', 'Moyen-Chari', 'Salamat',\n",
       "       'Kanem', 'LogoneOriental', 'Chari-Baguirmi', 'Tandjilé',\n",
       "       'LogoneOccidental', 'Sila', 'Mandoul', 'Mayo-KebbiEst', 'Guéra',\n",
       "       'Mayo-KebbiOuest', 'Lac', 'Borkou', 'Batha', 'EnnediOuest',\n",
       "       'BarhelGhazel', \"VilledeN'Djamena\", 'Tibesti'], dtype=object)"
      ]
     },
     "execution_count": 111,
     "metadata": {},
     "output_type": "execute_result"
    }
   ],
   "source": [
    "df_ch.state.unique()"
   ]
  },
  {
   "cell_type": "code",
   "execution_count": 519,
   "id": "3a0adb4e-551d-428b-b5d0-c25cc0519f9a",
   "metadata": {},
   "outputs": [
    {
     "name": "stderr",
     "output_type": "stream",
     "text": [
      "17:15:34 - cmdstanpy - INFO - Chain [1] start processing\n",
      "17:15:34 - cmdstanpy - INFO - Chain [1] done processing\n",
      "17:15:34 - cmdstanpy - INFO - Chain [1] start processing\n",
      "17:15:34 - cmdstanpy - INFO - Chain [1] done processing\n"
     ]
    }
   ],
   "source": [
    "et_res =  ndvi_ndwi_df_extraction(df_et, 'AddisAbeba')"
   ]
  },
  {
   "cell_type": "code",
   "execution_count": 521,
   "id": "2735ec1e-6ce9-4f06-ad48-01c2f3e93c6a",
   "metadata": {},
   "outputs": [
    {
     "data": {
      "text/plain": [
       "(301, 9)"
      ]
     },
     "execution_count": 521,
     "metadata": {},
     "output_type": "execute_result"
    }
   ],
   "source": [
    "et_res.shape"
   ]
  },
  {
   "cell_type": "code",
   "execution_count": 523,
   "id": "b76a9d42-efdf-4cb9-a49e-bd644ebcc746",
   "metadata": {},
   "outputs": [
    {
     "data": {
      "text/html": [
       "<div>\n",
       "<style scoped>\n",
       "    .dataframe tbody tr th:only-of-type {\n",
       "        vertical-align: middle;\n",
       "    }\n",
       "\n",
       "    .dataframe tbody tr th {\n",
       "        vertical-align: top;\n",
       "    }\n",
       "\n",
       "    .dataframe thead th {\n",
       "        text-align: right;\n",
       "    }\n",
       "</style>\n",
       "<table border=\"1\" class=\"dataframe\">\n",
       "  <thead>\n",
       "    <tr style=\"text-align: right;\">\n",
       "      <th></th>\n",
       "      <th>ds</th>\n",
       "      <th>ndvi_value</th>\n",
       "      <th>month_x</th>\n",
       "      <th>year_x</th>\n",
       "      <th>state_x</th>\n",
       "      <th>ndwi_value</th>\n",
       "      <th>month_y</th>\n",
       "      <th>year_y</th>\n",
       "      <th>state_y</th>\n",
       "    </tr>\n",
       "  </thead>\n",
       "  <tbody>\n",
       "    <tr>\n",
       "      <th>0</th>\n",
       "      <td>2000-01-16 00:00:00</td>\n",
       "      <td>0.166194</td>\n",
       "      <td>1</td>\n",
       "      <td>2000</td>\n",
       "      <td>AddisAbeba</td>\n",
       "      <td>-0.132151</td>\n",
       "      <td>1</td>\n",
       "      <td>2000</td>\n",
       "      <td>AddisAbeba</td>\n",
       "    </tr>\n",
       "    <tr>\n",
       "      <th>1</th>\n",
       "      <td>2000-02-15 00:00:00</td>\n",
       "      <td>0.179835</td>\n",
       "      <td>2</td>\n",
       "      <td>2000</td>\n",
       "      <td>AddisAbeba</td>\n",
       "      <td>-0.144038</td>\n",
       "      <td>2</td>\n",
       "      <td>2000</td>\n",
       "      <td>AddisAbeba</td>\n",
       "    </tr>\n",
       "    <tr>\n",
       "      <th>2</th>\n",
       "      <td>2000-03-16 00:00:00</td>\n",
       "      <td>0.207015</td>\n",
       "      <td>3</td>\n",
       "      <td>2000</td>\n",
       "      <td>AddisAbeba</td>\n",
       "      <td>-0.163345</td>\n",
       "      <td>3</td>\n",
       "      <td>2000</td>\n",
       "      <td>AddisAbeba</td>\n",
       "    </tr>\n",
       "    <tr>\n",
       "      <th>3</th>\n",
       "      <td>2000-04-15 12:00:00</td>\n",
       "      <td>0.234121</td>\n",
       "      <td>4</td>\n",
       "      <td>2000</td>\n",
       "      <td>AddisAbeba</td>\n",
       "      <td>-0.187084</td>\n",
       "      <td>4</td>\n",
       "      <td>2000</td>\n",
       "      <td>AddisAbeba</td>\n",
       "    </tr>\n",
       "    <tr>\n",
       "      <th>4</th>\n",
       "      <td>2000-05-16 00:00:00</td>\n",
       "      <td>0.187948</td>\n",
       "      <td>5</td>\n",
       "      <td>2000</td>\n",
       "      <td>AddisAbeba</td>\n",
       "      <td>-0.150527</td>\n",
       "      <td>5</td>\n",
       "      <td>2000</td>\n",
       "      <td>AddisAbeba</td>\n",
       "    </tr>\n",
       "  </tbody>\n",
       "</table>\n",
       "</div>"
      ],
      "text/plain": [
       "                   ds  ndvi_value  month_x  year_x     state_x  ndwi_value  \\\n",
       "0 2000-01-16 00:00:00    0.166194        1    2000  AddisAbeba   -0.132151   \n",
       "1 2000-02-15 00:00:00    0.179835        2    2000  AddisAbeba   -0.144038   \n",
       "2 2000-03-16 00:00:00    0.207015        3    2000  AddisAbeba   -0.163345   \n",
       "3 2000-04-15 12:00:00    0.234121        4    2000  AddisAbeba   -0.187084   \n",
       "4 2000-05-16 00:00:00    0.187948        5    2000  AddisAbeba   -0.150527   \n",
       "\n",
       "   month_y  year_y     state_y  \n",
       "0        1    2000  AddisAbeba  \n",
       "1        2    2000  AddisAbeba  \n",
       "2        3    2000  AddisAbeba  \n",
       "3        4    2000  AddisAbeba  \n",
       "4        5    2000  AddisAbeba  "
      ]
     },
     "execution_count": 523,
     "metadata": {},
     "output_type": "execute_result"
    }
   ],
   "source": [
    "et_res.head()"
   ]
  },
  {
   "cell_type": "code",
   "execution_count": 525,
   "id": "8f65fb7a-3cf6-450b-888d-b683a83d38c8",
   "metadata": {},
   "outputs": [
    {
     "name": "stderr",
     "output_type": "stream",
     "text": [
      "17:15:39 - cmdstanpy - INFO - Chain [1] start processing\n",
      "17:15:39 - cmdstanpy - INFO - Chain [1] done processing\n",
      "17:15:39 - cmdstanpy - INFO - Chain [1] start processing\n",
      "17:15:39 - cmdstanpy - INFO - Chain [1] done processing\n"
     ]
    }
   ],
   "source": [
    "ssd_res =  ndvi_ndwi_df_extraction(df_ssd, 'CentralEquatoria')"
   ]
  },
  {
   "cell_type": "code",
   "execution_count": 527,
   "id": "8dc4b422-4b31-4f8b-aa5a-21f8888df0f0",
   "metadata": {},
   "outputs": [
    {
     "data": {
      "text/html": [
       "<div>\n",
       "<style scoped>\n",
       "    .dataframe tbody tr th:only-of-type {\n",
       "        vertical-align: middle;\n",
       "    }\n",
       "\n",
       "    .dataframe tbody tr th {\n",
       "        vertical-align: top;\n",
       "    }\n",
       "\n",
       "    .dataframe thead th {\n",
       "        text-align: right;\n",
       "    }\n",
       "</style>\n",
       "<table border=\"1\" class=\"dataframe\">\n",
       "  <thead>\n",
       "    <tr style=\"text-align: right;\">\n",
       "      <th></th>\n",
       "      <th>ds</th>\n",
       "      <th>ndvi_value</th>\n",
       "      <th>month_x</th>\n",
       "      <th>year_x</th>\n",
       "      <th>state_x</th>\n",
       "      <th>ndwi_value</th>\n",
       "      <th>month_y</th>\n",
       "      <th>year_y</th>\n",
       "      <th>state_y</th>\n",
       "    </tr>\n",
       "  </thead>\n",
       "  <tbody>\n",
       "    <tr>\n",
       "      <th>0</th>\n",
       "      <td>2000-01-16 00:00:00</td>\n",
       "      <td>0.148613</td>\n",
       "      <td>1</td>\n",
       "      <td>2000</td>\n",
       "      <td>CentralEquatoria</td>\n",
       "      <td>-0.115094</td>\n",
       "      <td>1</td>\n",
       "      <td>2000</td>\n",
       "      <td>CentralEquatoria</td>\n",
       "    </tr>\n",
       "    <tr>\n",
       "      <th>1</th>\n",
       "      <td>2000-02-15 00:00:00</td>\n",
       "      <td>0.160969</td>\n",
       "      <td>2</td>\n",
       "      <td>2000</td>\n",
       "      <td>CentralEquatoria</td>\n",
       "      <td>-0.126214</td>\n",
       "      <td>2</td>\n",
       "      <td>2000</td>\n",
       "      <td>CentralEquatoria</td>\n",
       "    </tr>\n",
       "    <tr>\n",
       "      <th>2</th>\n",
       "      <td>2000-03-16 00:00:00</td>\n",
       "      <td>0.191681</td>\n",
       "      <td>3</td>\n",
       "      <td>2000</td>\n",
       "      <td>CentralEquatoria</td>\n",
       "      <td>-0.150353</td>\n",
       "      <td>3</td>\n",
       "      <td>2000</td>\n",
       "      <td>CentralEquatoria</td>\n",
       "    </tr>\n",
       "    <tr>\n",
       "      <th>3</th>\n",
       "      <td>2000-04-15 12:00:00</td>\n",
       "      <td>0.214516</td>\n",
       "      <td>4</td>\n",
       "      <td>2000</td>\n",
       "      <td>CentralEquatoria</td>\n",
       "      <td>-0.168998</td>\n",
       "      <td>4</td>\n",
       "      <td>2000</td>\n",
       "      <td>CentralEquatoria</td>\n",
       "    </tr>\n",
       "    <tr>\n",
       "      <th>4</th>\n",
       "      <td>2000-05-16 00:00:00</td>\n",
       "      <td>0.168091</td>\n",
       "      <td>5</td>\n",
       "      <td>2000</td>\n",
       "      <td>CentralEquatoria</td>\n",
       "      <td>-0.131789</td>\n",
       "      <td>5</td>\n",
       "      <td>2000</td>\n",
       "      <td>CentralEquatoria</td>\n",
       "    </tr>\n",
       "  </tbody>\n",
       "</table>\n",
       "</div>"
      ],
      "text/plain": [
       "                   ds  ndvi_value  month_x  year_x           state_x  \\\n",
       "0 2000-01-16 00:00:00    0.148613        1    2000  CentralEquatoria   \n",
       "1 2000-02-15 00:00:00    0.160969        2    2000  CentralEquatoria   \n",
       "2 2000-03-16 00:00:00    0.191681        3    2000  CentralEquatoria   \n",
       "3 2000-04-15 12:00:00    0.214516        4    2000  CentralEquatoria   \n",
       "4 2000-05-16 00:00:00    0.168091        5    2000  CentralEquatoria   \n",
       "\n",
       "   ndwi_value  month_y  year_y           state_y  \n",
       "0   -0.115094        1    2000  CentralEquatoria  \n",
       "1   -0.126214        2    2000  CentralEquatoria  \n",
       "2   -0.150353        3    2000  CentralEquatoria  \n",
       "3   -0.168998        4    2000  CentralEquatoria  \n",
       "4   -0.131789        5    2000  CentralEquatoria  "
      ]
     },
     "execution_count": 527,
     "metadata": {},
     "output_type": "execute_result"
    }
   ],
   "source": [
    "ssd_res.head()"
   ]
  },
  {
   "cell_type": "code",
   "execution_count": 529,
   "id": "5b8e3eb2-36b0-4523-845e-5fe10acb2a0b",
   "metadata": {},
   "outputs": [
    {
     "name": "stderr",
     "output_type": "stream",
     "text": [
      "17:15:41 - cmdstanpy - INFO - Chain [1] start processing\n",
      "17:15:41 - cmdstanpy - INFO - Chain [1] done processing\n",
      "17:15:41 - cmdstanpy - INFO - Chain [1] start processing\n",
      "17:15:41 - cmdstanpy - INFO - Chain [1] done processing\n"
     ]
    }
   ],
   "source": [
    "ch_res = ndvi_ndwi_df_extraction(df_ch, \"VilledeN'Djamena\")"
   ]
  },
  {
   "cell_type": "code",
   "execution_count": 531,
   "id": "696bc05b-a326-41db-b339-7a372e8b82a2",
   "metadata": {},
   "outputs": [
    {
     "data": {
      "text/html": [
       "<div>\n",
       "<style scoped>\n",
       "    .dataframe tbody tr th:only-of-type {\n",
       "        vertical-align: middle;\n",
       "    }\n",
       "\n",
       "    .dataframe tbody tr th {\n",
       "        vertical-align: top;\n",
       "    }\n",
       "\n",
       "    .dataframe thead th {\n",
       "        text-align: right;\n",
       "    }\n",
       "</style>\n",
       "<table border=\"1\" class=\"dataframe\">\n",
       "  <thead>\n",
       "    <tr style=\"text-align: right;\">\n",
       "      <th></th>\n",
       "      <th>ds</th>\n",
       "      <th>ndvi_value</th>\n",
       "      <th>month_x</th>\n",
       "      <th>year_x</th>\n",
       "      <th>state_x</th>\n",
       "      <th>ndwi_value</th>\n",
       "      <th>month_y</th>\n",
       "      <th>year_y</th>\n",
       "      <th>state_y</th>\n",
       "    </tr>\n",
       "  </thead>\n",
       "  <tbody>\n",
       "    <tr>\n",
       "      <th>0</th>\n",
       "      <td>2000-01-16 00:00:00</td>\n",
       "      <td>0.151570</td>\n",
       "      <td>1</td>\n",
       "      <td>2000</td>\n",
       "      <td>VilledeN'Djamena</td>\n",
       "      <td>-0.121412</td>\n",
       "      <td>1</td>\n",
       "      <td>2000</td>\n",
       "      <td>VilledeN'Djamena</td>\n",
       "    </tr>\n",
       "    <tr>\n",
       "      <th>1</th>\n",
       "      <td>2000-02-15 00:00:00</td>\n",
       "      <td>0.165587</td>\n",
       "      <td>2</td>\n",
       "      <td>2000</td>\n",
       "      <td>VilledeN'Djamena</td>\n",
       "      <td>-0.132762</td>\n",
       "      <td>2</td>\n",
       "      <td>2000</td>\n",
       "      <td>VilledeN'Djamena</td>\n",
       "    </tr>\n",
       "    <tr>\n",
       "      <th>2</th>\n",
       "      <td>2000-03-16 00:00:00</td>\n",
       "      <td>0.183248</td>\n",
       "      <td>3</td>\n",
       "      <td>2000</td>\n",
       "      <td>VilledeN'Djamena</td>\n",
       "      <td>-0.148817</td>\n",
       "      <td>3</td>\n",
       "      <td>2000</td>\n",
       "      <td>VilledeN'Djamena</td>\n",
       "    </tr>\n",
       "    <tr>\n",
       "      <th>3</th>\n",
       "      <td>2000-04-15 12:00:00</td>\n",
       "      <td>0.212395</td>\n",
       "      <td>4</td>\n",
       "      <td>2000</td>\n",
       "      <td>VilledeN'Djamena</td>\n",
       "      <td>-0.169137</td>\n",
       "      <td>4</td>\n",
       "      <td>2000</td>\n",
       "      <td>VilledeN'Djamena</td>\n",
       "    </tr>\n",
       "    <tr>\n",
       "      <th>4</th>\n",
       "      <td>2000-05-16 00:00:00</td>\n",
       "      <td>0.159230</td>\n",
       "      <td>5</td>\n",
       "      <td>2000</td>\n",
       "      <td>VilledeN'Djamena</td>\n",
       "      <td>-0.122242</td>\n",
       "      <td>5</td>\n",
       "      <td>2000</td>\n",
       "      <td>VilledeN'Djamena</td>\n",
       "    </tr>\n",
       "  </tbody>\n",
       "</table>\n",
       "</div>"
      ],
      "text/plain": [
       "                   ds  ndvi_value  month_x  year_x           state_x  \\\n",
       "0 2000-01-16 00:00:00    0.151570        1    2000  VilledeN'Djamena   \n",
       "1 2000-02-15 00:00:00    0.165587        2    2000  VilledeN'Djamena   \n",
       "2 2000-03-16 00:00:00    0.183248        3    2000  VilledeN'Djamena   \n",
       "3 2000-04-15 12:00:00    0.212395        4    2000  VilledeN'Djamena   \n",
       "4 2000-05-16 00:00:00    0.159230        5    2000  VilledeN'Djamena   \n",
       "\n",
       "   ndwi_value  month_y  year_y           state_y  \n",
       "0   -0.121412        1    2000  VilledeN'Djamena  \n",
       "1   -0.132762        2    2000  VilledeN'Djamena  \n",
       "2   -0.148817        3    2000  VilledeN'Djamena  \n",
       "3   -0.169137        4    2000  VilledeN'Djamena  \n",
       "4   -0.122242        5    2000  VilledeN'Djamena  "
      ]
     },
     "execution_count": 531,
     "metadata": {},
     "output_type": "execute_result"
    }
   ],
   "source": [
    "ch_res.head()"
   ]
  },
  {
   "cell_type": "code",
   "execution_count": 533,
   "id": "cde4b76c-863c-44ee-8b07-1fbb3765942a",
   "metadata": {},
   "outputs": [
    {
     "data": {
      "text/plain": [
       "(301, 9)"
      ]
     },
     "execution_count": 533,
     "metadata": {},
     "output_type": "execute_result"
    }
   ],
   "source": [
    "ch_res.shape"
   ]
  },
  {
   "cell_type": "markdown",
   "id": "5b0ffa77-59f0-46f9-8826-afe8a136a916",
   "metadata": {},
   "source": [
    "lets do Khartoum from Sudan now"
   ]
  },
  {
   "cell_type": "code",
   "execution_count": 192,
   "id": "ca48910d-74e7-4de5-bd7f-dfc8131e4ece",
   "metadata": {},
   "outputs": [],
   "source": [
    "ndvi_df_sd = pd.read_csv('Desktop/OMDENA_FINAL_DATASETS/final_ndvi_geographic.csv')"
   ]
  },
  {
   "cell_type": "code",
   "execution_count": 196,
   "id": "df644893-4c0c-4cc5-be33-9f8501841920",
   "metadata": {},
   "outputs": [
    {
     "data": {
      "text/html": [
       "<div>\n",
       "<style scoped>\n",
       "    .dataframe tbody tr th:only-of-type {\n",
       "        vertical-align: middle;\n",
       "    }\n",
       "\n",
       "    .dataframe tbody tr th {\n",
       "        vertical-align: top;\n",
       "    }\n",
       "\n",
       "    .dataframe thead th {\n",
       "        text-align: right;\n",
       "    }\n",
       "</style>\n",
       "<table border=\"1\" class=\"dataframe\">\n",
       "  <thead>\n",
       "    <tr style=\"text-align: right;\">\n",
       "      <th></th>\n",
       "      <th>date</th>\n",
       "      <th>value</th>\n",
       "      <th>state</th>\n",
       "    </tr>\n",
       "  </thead>\n",
       "  <tbody>\n",
       "    <tr>\n",
       "      <th>0</th>\n",
       "      <td>2015-10-20</td>\n",
       "      <td>0.005310</td>\n",
       "      <td>AlJazirah</td>\n",
       "    </tr>\n",
       "    <tr>\n",
       "      <th>1</th>\n",
       "      <td>2015-11-29</td>\n",
       "      <td>0.017227</td>\n",
       "      <td>AlJazirah</td>\n",
       "    </tr>\n",
       "    <tr>\n",
       "      <th>2</th>\n",
       "      <td>2015-12-09</td>\n",
       "      <td>0.058856</td>\n",
       "      <td>AlJazirah</td>\n",
       "    </tr>\n",
       "    <tr>\n",
       "      <th>3</th>\n",
       "      <td>2015-12-19</td>\n",
       "      <td>0.030519</td>\n",
       "      <td>AlJazirah</td>\n",
       "    </tr>\n",
       "    <tr>\n",
       "      <th>4</th>\n",
       "      <td>2015-12-29</td>\n",
       "      <td>0.084125</td>\n",
       "      <td>AlJazirah</td>\n",
       "    </tr>\n",
       "  </tbody>\n",
       "</table>\n",
       "</div>"
      ],
      "text/plain": [
       "         date     value      state\n",
       "0  2015-10-20  0.005310  AlJazirah\n",
       "1  2015-11-29  0.017227  AlJazirah\n",
       "2  2015-12-09  0.058856  AlJazirah\n",
       "3  2015-12-19  0.030519  AlJazirah\n",
       "4  2015-12-29  0.084125  AlJazirah"
      ]
     },
     "execution_count": 196,
     "metadata": {},
     "output_type": "execute_result"
    }
   ],
   "source": [
    "ndvi_df_sd.head()"
   ]
  },
  {
   "cell_type": "code",
   "execution_count": 194,
   "id": "46293e52-97a0-4947-a55d-25ec192b18dd",
   "metadata": {},
   "outputs": [],
   "source": [
    "ndwi_df_sd = pd.read_csv('Desktop/OMDENA_FINAL_DATASETS/final_ndwi_geographic.csv')"
   ]
  },
  {
   "cell_type": "code",
   "execution_count": 198,
   "id": "3931d974-2ba4-40ab-98f9-f270c8887ddc",
   "metadata": {},
   "outputs": [
    {
     "data": {
      "text/html": [
       "<div>\n",
       "<style scoped>\n",
       "    .dataframe tbody tr th:only-of-type {\n",
       "        vertical-align: middle;\n",
       "    }\n",
       "\n",
       "    .dataframe tbody tr th {\n",
       "        vertical-align: top;\n",
       "    }\n",
       "\n",
       "    .dataframe thead th {\n",
       "        text-align: right;\n",
       "    }\n",
       "</style>\n",
       "<table border=\"1\" class=\"dataframe\">\n",
       "  <thead>\n",
       "    <tr style=\"text-align: right;\">\n",
       "      <th></th>\n",
       "      <th>date</th>\n",
       "      <th>value</th>\n",
       "      <th>state</th>\n",
       "    </tr>\n",
       "  </thead>\n",
       "  <tbody>\n",
       "    <tr>\n",
       "      <th>0</th>\n",
       "      <td>2015-10-20</td>\n",
       "      <td>-0.011545</td>\n",
       "      <td>AlJazirah</td>\n",
       "    </tr>\n",
       "    <tr>\n",
       "      <th>1</th>\n",
       "      <td>2015-11-29</td>\n",
       "      <td>-0.040840</td>\n",
       "      <td>AlJazirah</td>\n",
       "    </tr>\n",
       "    <tr>\n",
       "      <th>2</th>\n",
       "      <td>2015-12-09</td>\n",
       "      <td>-0.094806</td>\n",
       "      <td>AlJazirah</td>\n",
       "    </tr>\n",
       "    <tr>\n",
       "      <th>3</th>\n",
       "      <td>2015-12-19</td>\n",
       "      <td>0.015846</td>\n",
       "      <td>AlJazirah</td>\n",
       "    </tr>\n",
       "    <tr>\n",
       "      <th>4</th>\n",
       "      <td>2015-12-29</td>\n",
       "      <td>-0.074044</td>\n",
       "      <td>AlJazirah</td>\n",
       "    </tr>\n",
       "  </tbody>\n",
       "</table>\n",
       "</div>"
      ],
      "text/plain": [
       "         date     value      state\n",
       "0  2015-10-20 -0.011545  AlJazirah\n",
       "1  2015-11-29 -0.040840  AlJazirah\n",
       "2  2015-12-09 -0.094806  AlJazirah\n",
       "3  2015-12-19  0.015846  AlJazirah\n",
       "4  2015-12-29 -0.074044  AlJazirah"
      ]
     },
     "execution_count": 198,
     "metadata": {},
     "output_type": "execute_result"
    }
   ],
   "source": [
    "ndwi_df_sd.head()"
   ]
  },
  {
   "cell_type": "code",
   "execution_count": 338,
   "id": "0dfc45dc-0c31-4d23-930b-47436d8e6b65",
   "metadata": {},
   "outputs": [],
   "source": [
    "def ndvi_ndwi_df_sudan(df_ndvi, df_ndwi, state):\n",
    "\n",
    "    #subselect for state that best represents the population, preferably the capital\n",
    "    #subselect for ndvi and ndwi information\n",
    "    #transform the columns and indices as appropriate\n",
    "\n",
    "    state_sub1 = df_ndvi[df_ndvi['state'] == state]\n",
    "    state_sub2 = df_ndwi[df_ndwi['state'] == state]\n",
    "\n",
    "    ndvi_sub = state_sub1[['date','value']]\n",
    "    ndvi_sub = ndvi_sub.rename(columns={'date':'ds', 'value':'y'})\n",
    "    ndvi_sub = ndvi_sub.drop_duplicates(keep='first')\n",
    "    ndvi_sub = ndvi_sub.reset_index(drop=True)\n",
    "\n",
    "\n",
    "    ndwi_sub = state_sub2[['date','value']]\n",
    "    ndwi_sub = ndwi_sub.rename(columns={'date':'ds', 'value':'y'})\n",
    "    ndwi_sub = ndwi_sub.drop_duplicates(keep='first')\n",
    "    ndwi_sub = ndwi_sub.reset_index(drop=True)\n",
    "\n",
    "\n",
    "\n",
    "    #create forecasters with the current data and then create dataframe with the forecasted information from 2000 onto present \n",
    "\n",
    "    \n",
    "    m_v = Prophet()\n",
    "\n",
    "    m_v.fit(ndvi_sub)\n",
    "\n",
    "\n",
    "    m_w = Prophet()\n",
    "\n",
    "    m_w.fit(ndwi_sub)\n",
    "\n",
    "    #create dates\n",
    "    \n",
    "    start_dt = date(2000, 1, 1)\n",
    "    end_dt = date(2015, 10, 19)\n",
    "\n",
    "    # difference between current and previous date\n",
    "    delta = timedelta(days=1)\n",
    "\n",
    "    # store the dates between two dates in a list\n",
    "    dates = []\n",
    "\n",
    "    while start_dt <= end_dt:\n",
    "    # add current date to list by converting  it to iso format\n",
    "        dates.append(start_dt.isoformat())\n",
    "    # increment start date by timedelta\n",
    "        start_dt += delta\n",
    "\n",
    "    #create date dataframe\n",
    "\n",
    "    past_dates = pd.DataFrame(data = {'ds':dates+ [x for x in ndvi_sub['ds']]})\n",
    "\n",
    "    #now predict ndvi values from the dataframe\n",
    "    \n",
    "    forecast_past_v = m_v.predict(past_dates)\n",
    "\n",
    "    forecast_past_v['ds'] = pd.to_datetime(forecast_past_v['ds'])\n",
    "\n",
    "    forecast_past_v['year'] = [x.year for x in forecast_past_v.ds]\n",
    "\n",
    "    forecast_past_v['month'] = [x.month for x in forecast_past_v.ds]\n",
    "\n",
    "    forecast_past_v = forecast_past_v.groupby(['year','month']).mean()\n",
    "\n",
    "    forecast_past_v = forecast_past_v.reset_index(drop=True)\n",
    "\n",
    "    forecast_past_v['year'] = [x.year for x in forecast_past_v.ds]\n",
    "\n",
    "    forecast_past_v['month'] = [x.month for x in forecast_past_v.ds]\n",
    "    \n",
    "\n",
    "    #briefly generate a list of intended states to concat with the dataframe\n",
    "    state_list = []\n",
    "\n",
    "    for x in range(len(forecast_past_v)):\n",
    "        state_list.append(state)\n",
    "\n",
    "    state_df = pd.DataFrame({'state':state_list})\n",
    "    \n",
    "\n",
    "    forecast_past_v = pd.concat([forecast_past_v[['ds','yhat','month','year']], state_df], axis=1)\n",
    "\n",
    "    forecast_past_v = forecast_past_v.rename(columns = {'yhat':'ndvi_value'})\n",
    "    \n",
    "    \n",
    "    #now predict the ndwi values\n",
    "    \n",
    "    forecast_past_w = m_w.predict(past_dates)\n",
    "\n",
    "    forecast_past_w['ds'] = pd.to_datetime(forecast_past_w['ds'])\n",
    "\n",
    "    forecast_past_w['year'] = [x.year for x in forecast_past_w.ds]\n",
    "\n",
    "    forecast_past_w['month'] = [x.month for x in forecast_past_w.ds]\n",
    "\n",
    "    forecast_past_w = forecast_past_w.groupby(['year','month']).mean()\n",
    "\n",
    "    forecast_past_w = forecast_past_w.reset_index(drop=True)\n",
    "\n",
    "    forecast_past_w['year'] = [x.year for x in forecast_past_w.ds]\n",
    "\n",
    "    forecast_past_w['month'] = [x.month for x in forecast_past_w.ds]\n",
    "\n",
    "    forecast_past_w = pd.concat([forecast_past_w[['ds','yhat','month','year']], state_df], axis=1)\n",
    "\n",
    "    forecast_past_w = forecast_past_w.rename(columns = {'yhat':'ndwi_value'})\n",
    "    \n",
    "\n",
    "    #merge ndvi and ndwi information together and return the dataframe\n",
    "    forecast_df = pd.merge(left = forecast_past_v, right = forecast_past_w, left_on = 'ds', right_on = 'ds')\n",
    "\n",
    "\n",
    "    return forecast_df"
   ]
  },
  {
   "cell_type": "code",
   "execution_count": 340,
   "id": "75b7844c-7550-4d42-9e4d-3efe9cdac92a",
   "metadata": {},
   "outputs": [
    {
     "name": "stderr",
     "output_type": "stream",
     "text": [
      "14:06:41 - cmdstanpy - INFO - Chain [1] start processing\n",
      "14:06:41 - cmdstanpy - INFO - Chain [1] done processing\n",
      "14:06:41 - cmdstanpy - INFO - Chain [1] start processing\n",
      "14:06:41 - cmdstanpy - INFO - Chain [1] done processing\n"
     ]
    }
   ],
   "source": [
    "sd_res = ndvi_ndwi_df_sudan(ndvi_df_sd, ndwi_df_sd, 'Khartoum')"
   ]
  },
  {
   "cell_type": "code",
   "execution_count": 342,
   "id": "a3fed0c2-b2e0-4c06-9f7b-bdbcfe600c72",
   "metadata": {},
   "outputs": [
    {
     "data": {
      "text/html": [
       "<div>\n",
       "<style scoped>\n",
       "    .dataframe tbody tr th:only-of-type {\n",
       "        vertical-align: middle;\n",
       "    }\n",
       "\n",
       "    .dataframe tbody tr th {\n",
       "        vertical-align: top;\n",
       "    }\n",
       "\n",
       "    .dataframe thead th {\n",
       "        text-align: right;\n",
       "    }\n",
       "</style>\n",
       "<table border=\"1\" class=\"dataframe\">\n",
       "  <thead>\n",
       "    <tr style=\"text-align: right;\">\n",
       "      <th></th>\n",
       "      <th>ds</th>\n",
       "      <th>ndvi_value</th>\n",
       "      <th>month_x</th>\n",
       "      <th>year_x</th>\n",
       "      <th>state_x</th>\n",
       "      <th>ndwi_value</th>\n",
       "      <th>month_y</th>\n",
       "      <th>year_y</th>\n",
       "      <th>state_y</th>\n",
       "    </tr>\n",
       "  </thead>\n",
       "  <tbody>\n",
       "    <tr>\n",
       "      <th>0</th>\n",
       "      <td>2000-01-16 00:00:00</td>\n",
       "      <td>0.172548</td>\n",
       "      <td>1</td>\n",
       "      <td>2000</td>\n",
       "      <td>Khartoum</td>\n",
       "      <td>-0.121937</td>\n",
       "      <td>1</td>\n",
       "      <td>2000</td>\n",
       "      <td>Khartoum</td>\n",
       "    </tr>\n",
       "    <tr>\n",
       "      <th>1</th>\n",
       "      <td>2000-02-15 00:00:00</td>\n",
       "      <td>0.190022</td>\n",
       "      <td>2</td>\n",
       "      <td>2000</td>\n",
       "      <td>Khartoum</td>\n",
       "      <td>-0.136662</td>\n",
       "      <td>2</td>\n",
       "      <td>2000</td>\n",
       "      <td>Khartoum</td>\n",
       "    </tr>\n",
       "    <tr>\n",
       "      <th>2</th>\n",
       "      <td>2000-03-16 00:00:00</td>\n",
       "      <td>0.219407</td>\n",
       "      <td>3</td>\n",
       "      <td>2000</td>\n",
       "      <td>Khartoum</td>\n",
       "      <td>-0.159775</td>\n",
       "      <td>3</td>\n",
       "      <td>2000</td>\n",
       "      <td>Khartoum</td>\n",
       "    </tr>\n",
       "    <tr>\n",
       "      <th>3</th>\n",
       "      <td>2000-04-15 12:00:00</td>\n",
       "      <td>0.235572</td>\n",
       "      <td>4</td>\n",
       "      <td>2000</td>\n",
       "      <td>Khartoum</td>\n",
       "      <td>-0.174150</td>\n",
       "      <td>4</td>\n",
       "      <td>2000</td>\n",
       "      <td>Khartoum</td>\n",
       "    </tr>\n",
       "    <tr>\n",
       "      <th>4</th>\n",
       "      <td>2000-05-16 00:00:00</td>\n",
       "      <td>0.188766</td>\n",
       "      <td>5</td>\n",
       "      <td>2000</td>\n",
       "      <td>Khartoum</td>\n",
       "      <td>-0.136522</td>\n",
       "      <td>5</td>\n",
       "      <td>2000</td>\n",
       "      <td>Khartoum</td>\n",
       "    </tr>\n",
       "  </tbody>\n",
       "</table>\n",
       "</div>"
      ],
      "text/plain": [
       "                   ds  ndvi_value  month_x  year_x   state_x  ndwi_value  \\\n",
       "0 2000-01-16 00:00:00    0.172548        1    2000  Khartoum   -0.121937   \n",
       "1 2000-02-15 00:00:00    0.190022        2    2000  Khartoum   -0.136662   \n",
       "2 2000-03-16 00:00:00    0.219407        3    2000  Khartoum   -0.159775   \n",
       "3 2000-04-15 12:00:00    0.235572        4    2000  Khartoum   -0.174150   \n",
       "4 2000-05-16 00:00:00    0.188766        5    2000  Khartoum   -0.136522   \n",
       "\n",
       "   month_y  year_y   state_y  \n",
       "0        1    2000  Khartoum  \n",
       "1        2    2000  Khartoum  \n",
       "2        3    2000  Khartoum  \n",
       "3        4    2000  Khartoum  \n",
       "4        5    2000  Khartoum  "
      ]
     },
     "execution_count": 342,
     "metadata": {},
     "output_type": "execute_result"
    }
   ],
   "source": [
    "sd_res.head()"
   ]
  },
  {
   "cell_type": "code",
   "execution_count": 344,
   "id": "c996683d-ef53-464e-9346-85196c6037e5",
   "metadata": {},
   "outputs": [
    {
     "data": {
      "text/plain": [
       "(300, 9)"
      ]
     },
     "execution_count": 344,
     "metadata": {},
     "output_type": "execute_result"
    }
   ],
   "source": [
    "sd_res.shape"
   ]
  },
  {
   "cell_type": "markdown",
   "id": "0c05153d-d245-4237-924b-9abbbc7ba400",
   "metadata": {},
   "source": [
    "Lets merge the malaria results with their corresponding states and years"
   ]
  },
  {
   "cell_type": "code",
   "execution_count": 356,
   "id": "3f07201c-83f2-411b-a948-55b4e40a32f5",
   "metadata": {},
   "outputs": [],
   "source": [
    "outbreak_df_sd = outbreak_df[outbreak_df['GEO_NAME_SHORT'] == 'Sudan']"
   ]
  },
  {
   "cell_type": "code",
   "execution_count": 358,
   "id": "f79d5cf4-353d-4028-98ed-6f7d8e524784",
   "metadata": {},
   "outputs": [],
   "source": [
    "sd_merge = pd.merge(left = sd_res, right= outbreak_df_sd, how = 'left', left_on = 'year_x', right_on = 'DIM_TIME')"
   ]
  },
  {
   "cell_type": "code",
   "execution_count": 360,
   "id": "defdd3b1-f322-4e98-90f3-2adef083ffbb",
   "metadata": {},
   "outputs": [
    {
     "data": {
      "text/plain": [
       "(300, 13)"
      ]
     },
     "execution_count": 360,
     "metadata": {},
     "output_type": "execute_result"
    }
   ],
   "source": [
    "sd_merge.shape"
   ]
  },
  {
   "cell_type": "code",
   "execution_count": 362,
   "id": "33482fca-52d3-4616-ae16-7c48ba401bb4",
   "metadata": {},
   "outputs": [
    {
     "data": {
      "text/html": [
       "<div>\n",
       "<style scoped>\n",
       "    .dataframe tbody tr th:only-of-type {\n",
       "        vertical-align: middle;\n",
       "    }\n",
       "\n",
       "    .dataframe tbody tr th {\n",
       "        vertical-align: top;\n",
       "    }\n",
       "\n",
       "    .dataframe thead th {\n",
       "        text-align: right;\n",
       "    }\n",
       "</style>\n",
       "<table border=\"1\" class=\"dataframe\">\n",
       "  <thead>\n",
       "    <tr style=\"text-align: right;\">\n",
       "      <th></th>\n",
       "      <th>ds</th>\n",
       "      <th>ndvi_value</th>\n",
       "      <th>month_x</th>\n",
       "      <th>year_x</th>\n",
       "      <th>state_x</th>\n",
       "      <th>ndwi_value</th>\n",
       "      <th>month_y</th>\n",
       "      <th>year_y</th>\n",
       "      <th>state_y</th>\n",
       "      <th>GEO_NAME_SHORT</th>\n",
       "      <th>DIM_TIME</th>\n",
       "      <th>Incidence_per_1000_people</th>\n",
       "      <th>outbreak</th>\n",
       "    </tr>\n",
       "  </thead>\n",
       "  <tbody>\n",
       "    <tr>\n",
       "      <th>0</th>\n",
       "      <td>2000-01-16 00:00:00</td>\n",
       "      <td>0.172548</td>\n",
       "      <td>1</td>\n",
       "      <td>2000</td>\n",
       "      <td>Khartoum</td>\n",
       "      <td>-0.121937</td>\n",
       "      <td>1</td>\n",
       "      <td>2000</td>\n",
       "      <td>Khartoum</td>\n",
       "      <td>Sudan</td>\n",
       "      <td>2000.0</td>\n",
       "      <td>92.77145</td>\n",
       "      <td>1.0</td>\n",
       "    </tr>\n",
       "    <tr>\n",
       "      <th>1</th>\n",
       "      <td>2000-02-15 00:00:00</td>\n",
       "      <td>0.190022</td>\n",
       "      <td>2</td>\n",
       "      <td>2000</td>\n",
       "      <td>Khartoum</td>\n",
       "      <td>-0.136662</td>\n",
       "      <td>2</td>\n",
       "      <td>2000</td>\n",
       "      <td>Khartoum</td>\n",
       "      <td>Sudan</td>\n",
       "      <td>2000.0</td>\n",
       "      <td>92.77145</td>\n",
       "      <td>1.0</td>\n",
       "    </tr>\n",
       "    <tr>\n",
       "      <th>2</th>\n",
       "      <td>2000-03-16 00:00:00</td>\n",
       "      <td>0.219407</td>\n",
       "      <td>3</td>\n",
       "      <td>2000</td>\n",
       "      <td>Khartoum</td>\n",
       "      <td>-0.159775</td>\n",
       "      <td>3</td>\n",
       "      <td>2000</td>\n",
       "      <td>Khartoum</td>\n",
       "      <td>Sudan</td>\n",
       "      <td>2000.0</td>\n",
       "      <td>92.77145</td>\n",
       "      <td>1.0</td>\n",
       "    </tr>\n",
       "    <tr>\n",
       "      <th>3</th>\n",
       "      <td>2000-04-15 12:00:00</td>\n",
       "      <td>0.235572</td>\n",
       "      <td>4</td>\n",
       "      <td>2000</td>\n",
       "      <td>Khartoum</td>\n",
       "      <td>-0.174150</td>\n",
       "      <td>4</td>\n",
       "      <td>2000</td>\n",
       "      <td>Khartoum</td>\n",
       "      <td>Sudan</td>\n",
       "      <td>2000.0</td>\n",
       "      <td>92.77145</td>\n",
       "      <td>1.0</td>\n",
       "    </tr>\n",
       "    <tr>\n",
       "      <th>4</th>\n",
       "      <td>2000-05-16 00:00:00</td>\n",
       "      <td>0.188766</td>\n",
       "      <td>5</td>\n",
       "      <td>2000</td>\n",
       "      <td>Khartoum</td>\n",
       "      <td>-0.136522</td>\n",
       "      <td>5</td>\n",
       "      <td>2000</td>\n",
       "      <td>Khartoum</td>\n",
       "      <td>Sudan</td>\n",
       "      <td>2000.0</td>\n",
       "      <td>92.77145</td>\n",
       "      <td>1.0</td>\n",
       "    </tr>\n",
       "  </tbody>\n",
       "</table>\n",
       "</div>"
      ],
      "text/plain": [
       "                   ds  ndvi_value  month_x  year_x   state_x  ndwi_value  \\\n",
       "0 2000-01-16 00:00:00    0.172548        1    2000  Khartoum   -0.121937   \n",
       "1 2000-02-15 00:00:00    0.190022        2    2000  Khartoum   -0.136662   \n",
       "2 2000-03-16 00:00:00    0.219407        3    2000  Khartoum   -0.159775   \n",
       "3 2000-04-15 12:00:00    0.235572        4    2000  Khartoum   -0.174150   \n",
       "4 2000-05-16 00:00:00    0.188766        5    2000  Khartoum   -0.136522   \n",
       "\n",
       "   month_y  year_y   state_y GEO_NAME_SHORT  DIM_TIME  \\\n",
       "0        1    2000  Khartoum          Sudan    2000.0   \n",
       "1        2    2000  Khartoum          Sudan    2000.0   \n",
       "2        3    2000  Khartoum          Sudan    2000.0   \n",
       "3        4    2000  Khartoum          Sudan    2000.0   \n",
       "4        5    2000  Khartoum          Sudan    2000.0   \n",
       "\n",
       "   Incidence_per_1000_people  outbreak  \n",
       "0                   92.77145       1.0  \n",
       "1                   92.77145       1.0  \n",
       "2                   92.77145       1.0  \n",
       "3                   92.77145       1.0  \n",
       "4                   92.77145       1.0  "
      ]
     },
     "execution_count": 362,
     "metadata": {},
     "output_type": "execute_result"
    }
   ],
   "source": [
    "sd_merge.head()"
   ]
  },
  {
   "cell_type": "code",
   "execution_count": 364,
   "id": "ce33a910-148e-4bbc-bcec-89beb8deb047",
   "metadata": {},
   "outputs": [],
   "source": [
    "outbreak_df_et = outbreak_df[outbreak_df['GEO_NAME_SHORT'] == 'Ethiopia']"
   ]
  },
  {
   "cell_type": "code",
   "execution_count": 366,
   "id": "99324a73-4350-49db-91ed-9f3dc13f9ebe",
   "metadata": {},
   "outputs": [],
   "source": [
    "et_merge = pd.merge(left = et_res, right= outbreak_df_et, how = 'left', left_on = 'year_x', right_on = 'DIM_TIME')"
   ]
  },
  {
   "cell_type": "code",
   "execution_count": 368,
   "id": "4ad9f870-66c0-496e-89c0-bad65a640f72",
   "metadata": {},
   "outputs": [
    {
     "data": {
      "text/plain": [
       "(301, 13)"
      ]
     },
     "execution_count": 368,
     "metadata": {},
     "output_type": "execute_result"
    }
   ],
   "source": [
    "et_merge.shape"
   ]
  },
  {
   "cell_type": "code",
   "execution_count": 370,
   "id": "a566ef8f-0953-4757-9a38-f36ca458bca3",
   "metadata": {},
   "outputs": [],
   "source": [
    "outbreak_df_ssd = outbreak_df[outbreak_df['GEO_NAME_SHORT'] == 'South Sudan']"
   ]
  },
  {
   "cell_type": "code",
   "execution_count": 372,
   "id": "94c282b5-e7c1-429e-bd35-2aedebd09d01",
   "metadata": {},
   "outputs": [],
   "source": [
    "ssd_merge = pd.merge(left = ssd_res, right= outbreak_df_ssd, how = 'left', left_on = 'year_x', right_on = 'DIM_TIME')"
   ]
  },
  {
   "cell_type": "code",
   "execution_count": 374,
   "id": "431a640d-6668-4e4f-8cbc-d941b06cec7b",
   "metadata": {},
   "outputs": [],
   "source": [
    "outbreak_df_ch = outbreak_df[outbreak_df['GEO_NAME_SHORT'] == 'Chad']"
   ]
  },
  {
   "cell_type": "code",
   "execution_count": 376,
   "id": "f0a784b3-746e-4a53-9947-7de6ab55c01e",
   "metadata": {},
   "outputs": [],
   "source": [
    "ch_merge = pd.merge(left = ch_res, right= outbreak_df_ch, how = 'left', left_on = 'year_x', right_on = 'DIM_TIME')"
   ]
  },
  {
   "cell_type": "code",
   "execution_count": 378,
   "id": "1559b06e-ab52-4f72-b380-14425a5fec9d",
   "metadata": {},
   "outputs": [],
   "source": [
    "final_df = pd.concat([sd_merge, et_merge], axis=0)"
   ]
  },
  {
   "cell_type": "code",
   "execution_count": 380,
   "id": "f2d3c94e-eeff-4d26-9060-fd6933f53b93",
   "metadata": {},
   "outputs": [],
   "source": [
    "final_df = pd.concat([final_df, ssd_merge], axis=0)"
   ]
  },
  {
   "cell_type": "code",
   "execution_count": 382,
   "id": "806675a3-38ac-4940-9a3a-c7b6ab977835",
   "metadata": {},
   "outputs": [],
   "source": [
    "final_df = pd.concat([final_df, ch_merge], axis=0)"
   ]
  },
  {
   "cell_type": "markdown",
   "id": "d45026aa-f632-436e-9060-20bd1a38fe73",
   "metadata": {},
   "source": [
    "Lets us do a sanity check on the final df"
   ]
  },
  {
   "cell_type": "code",
   "execution_count": 385,
   "id": "4a1905ac-307e-4a80-9c6c-c66b5c13bc26",
   "metadata": {},
   "outputs": [
    {
     "data": {
      "text/html": [
       "<div>\n",
       "<style scoped>\n",
       "    .dataframe tbody tr th:only-of-type {\n",
       "        vertical-align: middle;\n",
       "    }\n",
       "\n",
       "    .dataframe tbody tr th {\n",
       "        vertical-align: top;\n",
       "    }\n",
       "\n",
       "    .dataframe thead th {\n",
       "        text-align: right;\n",
       "    }\n",
       "</style>\n",
       "<table border=\"1\" class=\"dataframe\">\n",
       "  <thead>\n",
       "    <tr style=\"text-align: right;\">\n",
       "      <th></th>\n",
       "      <th>ds</th>\n",
       "      <th>ndvi_value</th>\n",
       "      <th>month_x</th>\n",
       "      <th>year_x</th>\n",
       "      <th>state_x</th>\n",
       "      <th>ndwi_value</th>\n",
       "      <th>month_y</th>\n",
       "      <th>year_y</th>\n",
       "      <th>state_y</th>\n",
       "      <th>GEO_NAME_SHORT</th>\n",
       "      <th>DIM_TIME</th>\n",
       "      <th>Incidence_per_1000_people</th>\n",
       "      <th>outbreak</th>\n",
       "    </tr>\n",
       "  </thead>\n",
       "  <tbody>\n",
       "    <tr>\n",
       "      <th>0</th>\n",
       "      <td>2000-01-16 00:00:00</td>\n",
       "      <td>0.172548</td>\n",
       "      <td>1</td>\n",
       "      <td>2000</td>\n",
       "      <td>Khartoum</td>\n",
       "      <td>-0.121937</td>\n",
       "      <td>1</td>\n",
       "      <td>2000</td>\n",
       "      <td>Khartoum</td>\n",
       "      <td>Sudan</td>\n",
       "      <td>2000.0</td>\n",
       "      <td>92.77145</td>\n",
       "      <td>1.0</td>\n",
       "    </tr>\n",
       "    <tr>\n",
       "      <th>1</th>\n",
       "      <td>2000-02-15 00:00:00</td>\n",
       "      <td>0.190022</td>\n",
       "      <td>2</td>\n",
       "      <td>2000</td>\n",
       "      <td>Khartoum</td>\n",
       "      <td>-0.136662</td>\n",
       "      <td>2</td>\n",
       "      <td>2000</td>\n",
       "      <td>Khartoum</td>\n",
       "      <td>Sudan</td>\n",
       "      <td>2000.0</td>\n",
       "      <td>92.77145</td>\n",
       "      <td>1.0</td>\n",
       "    </tr>\n",
       "    <tr>\n",
       "      <th>2</th>\n",
       "      <td>2000-03-16 00:00:00</td>\n",
       "      <td>0.219407</td>\n",
       "      <td>3</td>\n",
       "      <td>2000</td>\n",
       "      <td>Khartoum</td>\n",
       "      <td>-0.159775</td>\n",
       "      <td>3</td>\n",
       "      <td>2000</td>\n",
       "      <td>Khartoum</td>\n",
       "      <td>Sudan</td>\n",
       "      <td>2000.0</td>\n",
       "      <td>92.77145</td>\n",
       "      <td>1.0</td>\n",
       "    </tr>\n",
       "    <tr>\n",
       "      <th>3</th>\n",
       "      <td>2000-04-15 12:00:00</td>\n",
       "      <td>0.235572</td>\n",
       "      <td>4</td>\n",
       "      <td>2000</td>\n",
       "      <td>Khartoum</td>\n",
       "      <td>-0.174150</td>\n",
       "      <td>4</td>\n",
       "      <td>2000</td>\n",
       "      <td>Khartoum</td>\n",
       "      <td>Sudan</td>\n",
       "      <td>2000.0</td>\n",
       "      <td>92.77145</td>\n",
       "      <td>1.0</td>\n",
       "    </tr>\n",
       "    <tr>\n",
       "      <th>4</th>\n",
       "      <td>2000-05-16 00:00:00</td>\n",
       "      <td>0.188766</td>\n",
       "      <td>5</td>\n",
       "      <td>2000</td>\n",
       "      <td>Khartoum</td>\n",
       "      <td>-0.136522</td>\n",
       "      <td>5</td>\n",
       "      <td>2000</td>\n",
       "      <td>Khartoum</td>\n",
       "      <td>Sudan</td>\n",
       "      <td>2000.0</td>\n",
       "      <td>92.77145</td>\n",
       "      <td>1.0</td>\n",
       "    </tr>\n",
       "  </tbody>\n",
       "</table>\n",
       "</div>"
      ],
      "text/plain": [
       "                   ds  ndvi_value  month_x  year_x   state_x  ndwi_value  \\\n",
       "0 2000-01-16 00:00:00    0.172548        1    2000  Khartoum   -0.121937   \n",
       "1 2000-02-15 00:00:00    0.190022        2    2000  Khartoum   -0.136662   \n",
       "2 2000-03-16 00:00:00    0.219407        3    2000  Khartoum   -0.159775   \n",
       "3 2000-04-15 12:00:00    0.235572        4    2000  Khartoum   -0.174150   \n",
       "4 2000-05-16 00:00:00    0.188766        5    2000  Khartoum   -0.136522   \n",
       "\n",
       "   month_y  year_y   state_y GEO_NAME_SHORT  DIM_TIME  \\\n",
       "0        1    2000  Khartoum          Sudan    2000.0   \n",
       "1        2    2000  Khartoum          Sudan    2000.0   \n",
       "2        3    2000  Khartoum          Sudan    2000.0   \n",
       "3        4    2000  Khartoum          Sudan    2000.0   \n",
       "4        5    2000  Khartoum          Sudan    2000.0   \n",
       "\n",
       "   Incidence_per_1000_people  outbreak  \n",
       "0                   92.77145       1.0  \n",
       "1                   92.77145       1.0  \n",
       "2                   92.77145       1.0  \n",
       "3                   92.77145       1.0  \n",
       "4                   92.77145       1.0  "
      ]
     },
     "execution_count": 385,
     "metadata": {},
     "output_type": "execute_result"
    }
   ],
   "source": [
    "final_df.head()"
   ]
  },
  {
   "cell_type": "code",
   "execution_count": 387,
   "id": "019df918-bbdc-4c80-83e7-4767332d9686",
   "metadata": {},
   "outputs": [
    {
     "data": {
      "text/plain": [
       "(1203, 13)"
      ]
     },
     "execution_count": 387,
     "metadata": {},
     "output_type": "execute_result"
    }
   ],
   "source": [
    "final_df.shape"
   ]
  },
  {
   "cell_type": "code",
   "execution_count": 396,
   "id": "99cd2fb9-94a6-4dcf-a8af-5ba3ec62020d",
   "metadata": {},
   "outputs": [
    {
     "data": {
      "text/plain": [
       "ds                            0\n",
       "ndvi_value                    0\n",
       "month_x                       0\n",
       "year_x                        0\n",
       "state_x                       0\n",
       "ndwi_value                    0\n",
       "month_y                       0\n",
       "year_y                        0\n",
       "state_y                       0\n",
       "GEO_NAME_SHORT               99\n",
       "DIM_TIME                     99\n",
       "Incidence_per_1000_people    99\n",
       "outbreak                     99\n",
       "dtype: int64"
      ]
     },
     "execution_count": 396,
     "metadata": {},
     "output_type": "execute_result"
    }
   ],
   "source": [
    "final_df.isna().sum()"
   ]
  },
  {
   "cell_type": "code",
   "execution_count": 398,
   "id": "ff7f9b4d-4f02-44d6-bb5e-2a51cda02259",
   "metadata": {},
   "outputs": [],
   "source": [
    "final_df = final_df.dropna()"
   ]
  },
  {
   "cell_type": "code",
   "execution_count": 400,
   "id": "f82a8ee5-3c10-401e-8762-442bb411115e",
   "metadata": {},
   "outputs": [
    {
     "data": {
      "text/plain": [
       "(1104, 13)"
      ]
     },
     "execution_count": 400,
     "metadata": {},
     "output_type": "execute_result"
    }
   ],
   "source": [
    "final_df.shape"
   ]
  },
  {
   "cell_type": "markdown",
   "id": "4c3b57a9-303d-44ab-9382-0f5af48f024c",
   "metadata": {},
   "source": [
    "3.) Modeling\n",
    "a.) without country information (inputs -- > ndvi, ndwi, month | outputs-- > outbreak prediction)\n",
    "b.) with country information (inputs -- > ndvi, ndwi, month, country | outputs-- > outbreak prediction)"
   ]
  },
  {
   "cell_type": "code",
   "execution_count": 390,
   "id": "2d8e17e3-0f95-4fe7-bc2c-77d3c068cd66",
   "metadata": {},
   "outputs": [],
   "source": [
    "import sklearn.model_selection\n",
    "from sklearn.model_selection import train_test_split\n",
    "from sklearn.model_selection import KFold\n",
    "from sklearn.linear_model import LogisticRegression\n",
    "from sklearn.metrics import accuracy_score, f1_score\n",
    "from sklearn.metrics import classification_report\n",
    "from sklearn.metrics import confusion_matrix\n",
    "from sklearn.metrics import ConfusionMatrixDisplay\n",
    "from sklearn.model_selection import GridSearchCV"
   ]
  },
  {
   "cell_type": "code",
   "execution_count": 402,
   "id": "37a66fc6-ada6-40f5-9070-e836c492d5e7",
   "metadata": {},
   "outputs": [],
   "source": [
    "X = final_df[['ndvi_value','ndwi_value','month_x']]\n",
    "y = final_df['outbreak']"
   ]
  },
  {
   "cell_type": "code",
   "execution_count": 404,
   "id": "7033785f-ee76-49bd-80d0-89fce5d852c2",
   "metadata": {},
   "outputs": [],
   "source": [
    "Xtrain, Xtest, ytrain, ytest = train_test_split(X, y, test_size = .2, stratify=y)"
   ]
  },
  {
   "cell_type": "code",
   "execution_count": 416,
   "id": "4aafc976-3538-4862-b604-a19bbcbf0d98",
   "metadata": {},
   "outputs": [],
   "source": [
    "params = [{'solver':['liblinear','newton-cg'],'max_iter':[100, 200, 300, 500, 1000],'C':[1,10,100, 1000, 10000, 100000]}]"
   ]
  },
  {
   "cell_type": "code",
   "execution_count": 418,
   "id": "ab271b9c-490a-4ece-9f90-c41001ae09ac",
   "metadata": {},
   "outputs": [],
   "source": [
    "classifier = GridSearchCV(LogisticRegression(),\n",
    "                      param_grid=params,\n",
    "                      scoring='f1',\n",
    "                      cv=5)"
   ]
  },
  {
   "cell_type": "code",
   "execution_count": 420,
   "id": "0f436d49-500c-4126-8798-31505ced9599",
   "metadata": {},
   "outputs": [
    {
     "data": {
      "text/html": [
       "<style>#sk-container-id-2 {color: black;background-color: white;}#sk-container-id-2 pre{padding: 0;}#sk-container-id-2 div.sk-toggleable {background-color: white;}#sk-container-id-2 label.sk-toggleable__label {cursor: pointer;display: block;width: 100%;margin-bottom: 0;padding: 0.3em;box-sizing: border-box;text-align: center;}#sk-container-id-2 label.sk-toggleable__label-arrow:before {content: \"▸\";float: left;margin-right: 0.25em;color: #696969;}#sk-container-id-2 label.sk-toggleable__label-arrow:hover:before {color: black;}#sk-container-id-2 div.sk-estimator:hover label.sk-toggleable__label-arrow:before {color: black;}#sk-container-id-2 div.sk-toggleable__content {max-height: 0;max-width: 0;overflow: hidden;text-align: left;background-color: #f0f8ff;}#sk-container-id-2 div.sk-toggleable__content pre {margin: 0.2em;color: black;border-radius: 0.25em;background-color: #f0f8ff;}#sk-container-id-2 input.sk-toggleable__control:checked~div.sk-toggleable__content {max-height: 200px;max-width: 100%;overflow: auto;}#sk-container-id-2 input.sk-toggleable__control:checked~label.sk-toggleable__label-arrow:before {content: \"▾\";}#sk-container-id-2 div.sk-estimator input.sk-toggleable__control:checked~label.sk-toggleable__label {background-color: #d4ebff;}#sk-container-id-2 div.sk-label input.sk-toggleable__control:checked~label.sk-toggleable__label {background-color: #d4ebff;}#sk-container-id-2 input.sk-hidden--visually {border: 0;clip: rect(1px 1px 1px 1px);clip: rect(1px, 1px, 1px, 1px);height: 1px;margin: -1px;overflow: hidden;padding: 0;position: absolute;width: 1px;}#sk-container-id-2 div.sk-estimator {font-family: monospace;background-color: #f0f8ff;border: 1px dotted black;border-radius: 0.25em;box-sizing: border-box;margin-bottom: 0.5em;}#sk-container-id-2 div.sk-estimator:hover {background-color: #d4ebff;}#sk-container-id-2 div.sk-parallel-item::after {content: \"\";width: 100%;border-bottom: 1px solid gray;flex-grow: 1;}#sk-container-id-2 div.sk-label:hover label.sk-toggleable__label {background-color: #d4ebff;}#sk-container-id-2 div.sk-serial::before {content: \"\";position: absolute;border-left: 1px solid gray;box-sizing: border-box;top: 0;bottom: 0;left: 50%;z-index: 0;}#sk-container-id-2 div.sk-serial {display: flex;flex-direction: column;align-items: center;background-color: white;padding-right: 0.2em;padding-left: 0.2em;position: relative;}#sk-container-id-2 div.sk-item {position: relative;z-index: 1;}#sk-container-id-2 div.sk-parallel {display: flex;align-items: stretch;justify-content: center;background-color: white;position: relative;}#sk-container-id-2 div.sk-item::before, #sk-container-id-2 div.sk-parallel-item::before {content: \"\";position: absolute;border-left: 1px solid gray;box-sizing: border-box;top: 0;bottom: 0;left: 50%;z-index: -1;}#sk-container-id-2 div.sk-parallel-item {display: flex;flex-direction: column;z-index: 1;position: relative;background-color: white;}#sk-container-id-2 div.sk-parallel-item:first-child::after {align-self: flex-end;width: 50%;}#sk-container-id-2 div.sk-parallel-item:last-child::after {align-self: flex-start;width: 50%;}#sk-container-id-2 div.sk-parallel-item:only-child::after {width: 0;}#sk-container-id-2 div.sk-dashed-wrapped {border: 1px dashed gray;margin: 0 0.4em 0.5em 0.4em;box-sizing: border-box;padding-bottom: 0.4em;background-color: white;}#sk-container-id-2 div.sk-label label {font-family: monospace;font-weight: bold;display: inline-block;line-height: 1.2em;}#sk-container-id-2 div.sk-label-container {text-align: center;}#sk-container-id-2 div.sk-container {/* jupyter's `normalize.less` sets `[hidden] { display: none; }` but bootstrap.min.css set `[hidden] { display: none !important; }` so we also need the `!important` here to be able to override the default hidden behavior on the sphinx rendered scikit-learn.org. See: https://github.com/scikit-learn/scikit-learn/issues/21755 */display: inline-block !important;position: relative;}#sk-container-id-2 div.sk-text-repr-fallback {display: none;}</style><div id=\"sk-container-id-2\" class=\"sk-top-container\"><div class=\"sk-text-repr-fallback\"><pre>GridSearchCV(cv=5, estimator=LogisticRegression(),\n",
       "             param_grid=[{&#x27;C&#x27;: [1, 10, 100, 1000, 10000, 100000],\n",
       "                          &#x27;max_iter&#x27;: [100, 200, 300, 500, 1000],\n",
       "                          &#x27;solver&#x27;: [&#x27;liblinear&#x27;, &#x27;newton-cg&#x27;]}],\n",
       "             scoring=&#x27;f1&#x27;)</pre><b>In a Jupyter environment, please rerun this cell to show the HTML representation or trust the notebook. <br />On GitHub, the HTML representation is unable to render, please try loading this page with nbviewer.org.</b></div><div class=\"sk-container\" hidden><div class=\"sk-item sk-dashed-wrapped\"><div class=\"sk-label-container\"><div class=\"sk-label sk-toggleable\"><input class=\"sk-toggleable__control sk-hidden--visually\" id=\"sk-estimator-id-4\" type=\"checkbox\" ><label for=\"sk-estimator-id-4\" class=\"sk-toggleable__label sk-toggleable__label-arrow\">GridSearchCV</label><div class=\"sk-toggleable__content\"><pre>GridSearchCV(cv=5, estimator=LogisticRegression(),\n",
       "             param_grid=[{&#x27;C&#x27;: [1, 10, 100, 1000, 10000, 100000],\n",
       "                          &#x27;max_iter&#x27;: [100, 200, 300, 500, 1000],\n",
       "                          &#x27;solver&#x27;: [&#x27;liblinear&#x27;, &#x27;newton-cg&#x27;]}],\n",
       "             scoring=&#x27;f1&#x27;)</pre></div></div></div><div class=\"sk-parallel\"><div class=\"sk-parallel-item\"><div class=\"sk-item\"><div class=\"sk-label-container\"><div class=\"sk-label sk-toggleable\"><input class=\"sk-toggleable__control sk-hidden--visually\" id=\"sk-estimator-id-5\" type=\"checkbox\" ><label for=\"sk-estimator-id-5\" class=\"sk-toggleable__label sk-toggleable__label-arrow\">estimator: LogisticRegression</label><div class=\"sk-toggleable__content\"><pre>LogisticRegression()</pre></div></div></div><div class=\"sk-serial\"><div class=\"sk-item\"><div class=\"sk-estimator sk-toggleable\"><input class=\"sk-toggleable__control sk-hidden--visually\" id=\"sk-estimator-id-6\" type=\"checkbox\" ><label for=\"sk-estimator-id-6\" class=\"sk-toggleable__label sk-toggleable__label-arrow\">LogisticRegression</label><div class=\"sk-toggleable__content\"><pre>LogisticRegression()</pre></div></div></div></div></div></div></div></div></div></div>"
      ],
      "text/plain": [
       "GridSearchCV(cv=5, estimator=LogisticRegression(),\n",
       "             param_grid=[{'C': [1, 10, 100, 1000, 10000, 100000],\n",
       "                          'max_iter': [100, 200, 300, 500, 1000],\n",
       "                          'solver': ['liblinear', 'newton-cg']}],\n",
       "             scoring='f1')"
      ]
     },
     "execution_count": 420,
     "metadata": {},
     "output_type": "execute_result"
    }
   ],
   "source": [
    "classifier.fit(Xtrain, ytrain)"
   ]
  },
  {
   "cell_type": "code",
   "execution_count": 422,
   "id": "dfff0d3e-8632-4c31-8f40-bcfc69fa59f3",
   "metadata": {},
   "outputs": [
    {
     "data": {
      "text/plain": [
       "0.7918552036199095"
      ]
     },
     "execution_count": 422,
     "metadata": {},
     "output_type": "execute_result"
    }
   ],
   "source": [
    "accuracy_score(classifier.predict(Xtest), ytest)"
   ]
  },
  {
   "cell_type": "code",
   "execution_count": 424,
   "id": "4a1dcb13-ccbe-4f21-814b-02805759641a",
   "metadata": {},
   "outputs": [
    {
     "name": "stdout",
     "output_type": "stream",
     "text": [
      "Classification Report for Test Data\n",
      "              precision    recall  f1-score   support\n",
      "\n",
      "         0.0       0.00      0.00      0.00        46\n",
      "         1.0       0.79      1.00      0.88       175\n",
      "\n",
      "    accuracy                           0.79       221\n",
      "   macro avg       0.40      0.50      0.44       221\n",
      "weighted avg       0.63      0.79      0.70       221\n",
      "\n"
     ]
    },
    {
     "name": "stderr",
     "output_type": "stream",
     "text": [
      "/opt/anaconda3/lib/python3.11/site-packages/sklearn/metrics/_classification.py:1344: UndefinedMetricWarning: Precision and F-score are ill-defined and being set to 0.0 in labels with no predicted samples. Use `zero_division` parameter to control this behavior.\n",
      "  _warn_prf(average, modifier, msg_start, len(result))\n",
      "/opt/anaconda3/lib/python3.11/site-packages/sklearn/metrics/_classification.py:1344: UndefinedMetricWarning: Precision and F-score are ill-defined and being set to 0.0 in labels with no predicted samples. Use `zero_division` parameter to control this behavior.\n",
      "  _warn_prf(average, modifier, msg_start, len(result))\n",
      "/opt/anaconda3/lib/python3.11/site-packages/sklearn/metrics/_classification.py:1344: UndefinedMetricWarning: Precision and F-score are ill-defined and being set to 0.0 in labels with no predicted samples. Use `zero_division` parameter to control this behavior.\n",
      "  _warn_prf(average, modifier, msg_start, len(result))\n"
     ]
    }
   ],
   "source": [
    "print(\"Classification Report for Test Data\")\n",
    "print(classification_report(ytest, classifier.predict(Xtest)))"
   ]
  },
  {
   "cell_type": "markdown",
   "id": "681dce18-5083-423c-b364-e2ec26496c0d",
   "metadata": {},
   "source": [
    "This model is skewed now towards the yes class (1) as opposed to the earlier datasets skew towards no class (0)"
   ]
  },
  {
   "cell_type": "markdown",
   "id": "aba4764a-d459-47c7-bb04-977c10d6ba33",
   "metadata": {},
   "source": [
    "Random Forest Classifier"
   ]
  },
  {
   "cell_type": "code",
   "execution_count": 426,
   "id": "80cdd9ec-1ee5-4dd6-baee-ed17986341d4",
   "metadata": {},
   "outputs": [],
   "source": [
    "from sklearn.ensemble import RandomForestClassifier"
   ]
  },
  {
   "cell_type": "code",
   "execution_count": 428,
   "id": "50138067-e74e-4b58-ab14-b33126cfd77f",
   "metadata": {},
   "outputs": [
    {
     "name": "stdout",
     "output_type": "stream",
     "text": [
      "{'criterion': 'log_loss', 'n_estimators': 100}\n",
      "0.9170078182869348\n"
     ]
    }
   ],
   "source": [
    "grid_params = {'n_estimators':[50, 100, 200, 300, 500], 'criterion':['gini','entropy','log_loss'] }\n",
    "\n",
    "gscv_rfc = GridSearchCV(RandomForestClassifier(), param_grid=grid_params, cv=5, scoring='f1')\n",
    "\n",
    "rfc = gscv_rfc.fit(Xtrain, ytrain)\n",
    "\n",
    "print (rfc.best_params_)\n",
    "print (rfc.best_score_)"
   ]
  },
  {
   "cell_type": "code",
   "execution_count": 430,
   "id": "98c530e8-dee5-493f-a713-62f82aa317c3",
   "metadata": {},
   "outputs": [
    {
     "name": "stdout",
     "output_type": "stream",
     "text": [
      "Classification Report for Test Data\n",
      "              precision    recall  f1-score   support\n",
      "\n",
      "         0.0       0.72      0.46      0.56        46\n",
      "         1.0       0.87      0.95      0.91       175\n",
      "\n",
      "    accuracy                           0.85       221\n",
      "   macro avg       0.80      0.71      0.74       221\n",
      "weighted avg       0.84      0.85      0.84       221\n",
      "\n"
     ]
    }
   ],
   "source": [
    "print(\"Classification Report for Test Data\")\n",
    "print(classification_report(ytest, rfc.predict(Xtest)))"
   ]
  },
  {
   "cell_type": "markdown",
   "id": "586bbb2b-6597-427e-8352-91bbc2c2d4ae",
   "metadata": {},
   "source": [
    "Now lets repeat this with the countries added as one hot encoded information"
   ]
  },
  {
   "cell_type": "code",
   "execution_count": 453,
   "id": "e67e9a05-b866-4a75-ad53-f62adc1f9f56",
   "metadata": {},
   "outputs": [],
   "source": [
    "one_hots = pd.get_dummies(final_df['GEO_NAME_SHORT'])"
   ]
  },
  {
   "cell_type": "code",
   "execution_count": 455,
   "id": "787ddc48-d273-4038-940c-e6800e50b99a",
   "metadata": {},
   "outputs": [
    {
     "data": {
      "text/html": [
       "<div>\n",
       "<style scoped>\n",
       "    .dataframe tbody tr th:only-of-type {\n",
       "        vertical-align: middle;\n",
       "    }\n",
       "\n",
       "    .dataframe tbody tr th {\n",
       "        vertical-align: top;\n",
       "    }\n",
       "\n",
       "    .dataframe thead th {\n",
       "        text-align: right;\n",
       "    }\n",
       "</style>\n",
       "<table border=\"1\" class=\"dataframe\">\n",
       "  <thead>\n",
       "    <tr style=\"text-align: right;\">\n",
       "      <th></th>\n",
       "      <th>Chad</th>\n",
       "      <th>Ethiopia</th>\n",
       "      <th>South Sudan</th>\n",
       "      <th>Sudan</th>\n",
       "    </tr>\n",
       "  </thead>\n",
       "  <tbody>\n",
       "    <tr>\n",
       "      <th>0</th>\n",
       "      <td>False</td>\n",
       "      <td>False</td>\n",
       "      <td>False</td>\n",
       "      <td>True</td>\n",
       "    </tr>\n",
       "    <tr>\n",
       "      <th>1</th>\n",
       "      <td>False</td>\n",
       "      <td>False</td>\n",
       "      <td>False</td>\n",
       "      <td>True</td>\n",
       "    </tr>\n",
       "    <tr>\n",
       "      <th>2</th>\n",
       "      <td>False</td>\n",
       "      <td>False</td>\n",
       "      <td>False</td>\n",
       "      <td>True</td>\n",
       "    </tr>\n",
       "    <tr>\n",
       "      <th>3</th>\n",
       "      <td>False</td>\n",
       "      <td>False</td>\n",
       "      <td>False</td>\n",
       "      <td>True</td>\n",
       "    </tr>\n",
       "    <tr>\n",
       "      <th>4</th>\n",
       "      <td>False</td>\n",
       "      <td>False</td>\n",
       "      <td>False</td>\n",
       "      <td>True</td>\n",
       "    </tr>\n",
       "  </tbody>\n",
       "</table>\n",
       "</div>"
      ],
      "text/plain": [
       "    Chad  Ethiopia  South Sudan  Sudan\n",
       "0  False     False        False   True\n",
       "1  False     False        False   True\n",
       "2  False     False        False   True\n",
       "3  False     False        False   True\n",
       "4  False     False        False   True"
      ]
     },
     "execution_count": 455,
     "metadata": {},
     "output_type": "execute_result"
    }
   ],
   "source": [
    "one_hots.head()"
   ]
  },
  {
   "cell_type": "code",
   "execution_count": 457,
   "id": "560368f4-fd70-4c03-b9eb-01560c9f229b",
   "metadata": {},
   "outputs": [],
   "source": [
    "final_df_dummies = pd.concat([final_df, one_hots], axis=1)"
   ]
  },
  {
   "cell_type": "code",
   "execution_count": 459,
   "id": "81d61652-af73-4b94-b7a6-9b2e7f74b48c",
   "metadata": {},
   "outputs": [],
   "source": [
    "X = final_df_dummies[['ndvi_value','ndwi_value','month_x','Chad','Ethiopia','South Sudan','Sudan']]"
   ]
  },
  {
   "cell_type": "code",
   "execution_count": 461,
   "id": "c461181b-6cd7-43e1-8594-817b10c9a6e0",
   "metadata": {},
   "outputs": [],
   "source": [
    "y = final_df_dummies['outbreak']"
   ]
  },
  {
   "cell_type": "code",
   "execution_count": 487,
   "id": "ab95be54-857c-4aab-9419-e2a76cfcd5e7",
   "metadata": {},
   "outputs": [],
   "source": [
    "Xtrain, Xtest, ytrain, ytest = train_test_split(X, y, test_size = .2, stratify=y)"
   ]
  },
  {
   "cell_type": "code",
   "execution_count": 465,
   "id": "4a4b8c18-8b16-4f4b-8de5-f12c553d4922",
   "metadata": {},
   "outputs": [],
   "source": [
    "params = [{'solver':['liblinear','newton-cg'],'max_iter':[100, 200, 300, 500, 1000],'C':[1,10,100, 1000, 10000, 100000]}]"
   ]
  },
  {
   "cell_type": "code",
   "execution_count": 467,
   "id": "e52424f4-1f4d-4672-8aac-7cb07cf3cbbe",
   "metadata": {},
   "outputs": [],
   "source": [
    "classifier = GridSearchCV(LogisticRegression(),\n",
    "                      param_grid=params,\n",
    "                      scoring='f1',\n",
    "                      cv=5)"
   ]
  },
  {
   "cell_type": "code",
   "execution_count": 469,
   "id": "ff8beef8-ddb9-44e9-ab18-d1ece9693824",
   "metadata": {},
   "outputs": [
    {
     "data": {
      "text/html": [
       "<style>#sk-container-id-3 {color: black;background-color: white;}#sk-container-id-3 pre{padding: 0;}#sk-container-id-3 div.sk-toggleable {background-color: white;}#sk-container-id-3 label.sk-toggleable__label {cursor: pointer;display: block;width: 100%;margin-bottom: 0;padding: 0.3em;box-sizing: border-box;text-align: center;}#sk-container-id-3 label.sk-toggleable__label-arrow:before {content: \"▸\";float: left;margin-right: 0.25em;color: #696969;}#sk-container-id-3 label.sk-toggleable__label-arrow:hover:before {color: black;}#sk-container-id-3 div.sk-estimator:hover label.sk-toggleable__label-arrow:before {color: black;}#sk-container-id-3 div.sk-toggleable__content {max-height: 0;max-width: 0;overflow: hidden;text-align: left;background-color: #f0f8ff;}#sk-container-id-3 div.sk-toggleable__content pre {margin: 0.2em;color: black;border-radius: 0.25em;background-color: #f0f8ff;}#sk-container-id-3 input.sk-toggleable__control:checked~div.sk-toggleable__content {max-height: 200px;max-width: 100%;overflow: auto;}#sk-container-id-3 input.sk-toggleable__control:checked~label.sk-toggleable__label-arrow:before {content: \"▾\";}#sk-container-id-3 div.sk-estimator input.sk-toggleable__control:checked~label.sk-toggleable__label {background-color: #d4ebff;}#sk-container-id-3 div.sk-label input.sk-toggleable__control:checked~label.sk-toggleable__label {background-color: #d4ebff;}#sk-container-id-3 input.sk-hidden--visually {border: 0;clip: rect(1px 1px 1px 1px);clip: rect(1px, 1px, 1px, 1px);height: 1px;margin: -1px;overflow: hidden;padding: 0;position: absolute;width: 1px;}#sk-container-id-3 div.sk-estimator {font-family: monospace;background-color: #f0f8ff;border: 1px dotted black;border-radius: 0.25em;box-sizing: border-box;margin-bottom: 0.5em;}#sk-container-id-3 div.sk-estimator:hover {background-color: #d4ebff;}#sk-container-id-3 div.sk-parallel-item::after {content: \"\";width: 100%;border-bottom: 1px solid gray;flex-grow: 1;}#sk-container-id-3 div.sk-label:hover label.sk-toggleable__label {background-color: #d4ebff;}#sk-container-id-3 div.sk-serial::before {content: \"\";position: absolute;border-left: 1px solid gray;box-sizing: border-box;top: 0;bottom: 0;left: 50%;z-index: 0;}#sk-container-id-3 div.sk-serial {display: flex;flex-direction: column;align-items: center;background-color: white;padding-right: 0.2em;padding-left: 0.2em;position: relative;}#sk-container-id-3 div.sk-item {position: relative;z-index: 1;}#sk-container-id-3 div.sk-parallel {display: flex;align-items: stretch;justify-content: center;background-color: white;position: relative;}#sk-container-id-3 div.sk-item::before, #sk-container-id-3 div.sk-parallel-item::before {content: \"\";position: absolute;border-left: 1px solid gray;box-sizing: border-box;top: 0;bottom: 0;left: 50%;z-index: -1;}#sk-container-id-3 div.sk-parallel-item {display: flex;flex-direction: column;z-index: 1;position: relative;background-color: white;}#sk-container-id-3 div.sk-parallel-item:first-child::after {align-self: flex-end;width: 50%;}#sk-container-id-3 div.sk-parallel-item:last-child::after {align-self: flex-start;width: 50%;}#sk-container-id-3 div.sk-parallel-item:only-child::after {width: 0;}#sk-container-id-3 div.sk-dashed-wrapped {border: 1px dashed gray;margin: 0 0.4em 0.5em 0.4em;box-sizing: border-box;padding-bottom: 0.4em;background-color: white;}#sk-container-id-3 div.sk-label label {font-family: monospace;font-weight: bold;display: inline-block;line-height: 1.2em;}#sk-container-id-3 div.sk-label-container {text-align: center;}#sk-container-id-3 div.sk-container {/* jupyter's `normalize.less` sets `[hidden] { display: none; }` but bootstrap.min.css set `[hidden] { display: none !important; }` so we also need the `!important` here to be able to override the default hidden behavior on the sphinx rendered scikit-learn.org. See: https://github.com/scikit-learn/scikit-learn/issues/21755 */display: inline-block !important;position: relative;}#sk-container-id-3 div.sk-text-repr-fallback {display: none;}</style><div id=\"sk-container-id-3\" class=\"sk-top-container\"><div class=\"sk-text-repr-fallback\"><pre>GridSearchCV(cv=5, estimator=LogisticRegression(),\n",
       "             param_grid=[{&#x27;C&#x27;: [1, 10, 100, 1000, 10000, 100000],\n",
       "                          &#x27;max_iter&#x27;: [100, 200, 300, 500, 1000],\n",
       "                          &#x27;solver&#x27;: [&#x27;liblinear&#x27;, &#x27;newton-cg&#x27;]}],\n",
       "             scoring=&#x27;f1&#x27;)</pre><b>In a Jupyter environment, please rerun this cell to show the HTML representation or trust the notebook. <br />On GitHub, the HTML representation is unable to render, please try loading this page with nbviewer.org.</b></div><div class=\"sk-container\" hidden><div class=\"sk-item sk-dashed-wrapped\"><div class=\"sk-label-container\"><div class=\"sk-label sk-toggleable\"><input class=\"sk-toggleable__control sk-hidden--visually\" id=\"sk-estimator-id-7\" type=\"checkbox\" ><label for=\"sk-estimator-id-7\" class=\"sk-toggleable__label sk-toggleable__label-arrow\">GridSearchCV</label><div class=\"sk-toggleable__content\"><pre>GridSearchCV(cv=5, estimator=LogisticRegression(),\n",
       "             param_grid=[{&#x27;C&#x27;: [1, 10, 100, 1000, 10000, 100000],\n",
       "                          &#x27;max_iter&#x27;: [100, 200, 300, 500, 1000],\n",
       "                          &#x27;solver&#x27;: [&#x27;liblinear&#x27;, &#x27;newton-cg&#x27;]}],\n",
       "             scoring=&#x27;f1&#x27;)</pre></div></div></div><div class=\"sk-parallel\"><div class=\"sk-parallel-item\"><div class=\"sk-item\"><div class=\"sk-label-container\"><div class=\"sk-label sk-toggleable\"><input class=\"sk-toggleable__control sk-hidden--visually\" id=\"sk-estimator-id-8\" type=\"checkbox\" ><label for=\"sk-estimator-id-8\" class=\"sk-toggleable__label sk-toggleable__label-arrow\">estimator: LogisticRegression</label><div class=\"sk-toggleable__content\"><pre>LogisticRegression()</pre></div></div></div><div class=\"sk-serial\"><div class=\"sk-item\"><div class=\"sk-estimator sk-toggleable\"><input class=\"sk-toggleable__control sk-hidden--visually\" id=\"sk-estimator-id-9\" type=\"checkbox\" ><label for=\"sk-estimator-id-9\" class=\"sk-toggleable__label sk-toggleable__label-arrow\">LogisticRegression</label><div class=\"sk-toggleable__content\"><pre>LogisticRegression()</pre></div></div></div></div></div></div></div></div></div></div>"
      ],
      "text/plain": [
       "GridSearchCV(cv=5, estimator=LogisticRegression(),\n",
       "             param_grid=[{'C': [1, 10, 100, 1000, 10000, 100000],\n",
       "                          'max_iter': [100, 200, 300, 500, 1000],\n",
       "                          'solver': ['liblinear', 'newton-cg']}],\n",
       "             scoring='f1')"
      ]
     },
     "execution_count": 469,
     "metadata": {},
     "output_type": "execute_result"
    }
   ],
   "source": [
    "classifier.fit(Xtrain, ytrain)"
   ]
  },
  {
   "cell_type": "code",
   "execution_count": 538,
   "id": "1d8fddcc-47fc-4ee0-a099-aa99177085cf",
   "metadata": {},
   "outputs": [
    {
     "data": {
      "text/plain": [
       "0.8778280542986425"
      ]
     },
     "execution_count": 538,
     "metadata": {},
     "output_type": "execute_result"
    }
   ],
   "source": [
    "accuracy_score(classifier.predict(Xtest), ytest)"
   ]
  },
  {
   "cell_type": "code",
   "execution_count": 473,
   "id": "e30922ed-f668-4cff-b549-8f52f2e76b3d",
   "metadata": {},
   "outputs": [
    {
     "name": "stdout",
     "output_type": "stream",
     "text": [
      "Classification Report for Test Data\n",
      "              precision    recall  f1-score   support\n",
      "\n",
      "         0.0       0.67      0.76      0.71        46\n",
      "         1.0       0.93      0.90      0.92       175\n",
      "\n",
      "    accuracy                           0.87       221\n",
      "   macro avg       0.80      0.83      0.82       221\n",
      "weighted avg       0.88      0.87      0.88       221\n",
      "\n"
     ]
    }
   ],
   "source": [
    "print(\"Classification Report for Test Data\")\n",
    "print(classification_report(ytest, classifier.predict(Xtest)))"
   ]
  },
  {
   "cell_type": "markdown",
   "id": "18c1d4df-c4b3-4be9-a724-bbc321ecffff",
   "metadata": {},
   "source": [
    "Using random forest"
   ]
  },
  {
   "cell_type": "code",
   "execution_count": 476,
   "id": "c6dd3c1b-6f61-40ef-b823-37d219ba5fad",
   "metadata": {},
   "outputs": [
    {
     "name": "stdout",
     "output_type": "stream",
     "text": [
      "{'criterion': 'log_loss', 'n_estimators': 200}\n",
      "0.9402910954012581\n"
     ]
    }
   ],
   "source": [
    "grid_params = {'n_estimators':[50, 100, 200, 300, 500], 'criterion':['gini','entropy','log_loss'] }\n",
    "\n",
    "gscv_rfc = GridSearchCV(RandomForestClassifier(), param_grid=grid_params, cv=5, scoring='f1')\n",
    "\n",
    "rfc = gscv_rfc.fit(Xtrain, ytrain)\n",
    "\n",
    "print (rfc.best_params_)\n",
    "print (rfc.best_score_)"
   ]
  },
  {
   "cell_type": "code",
   "execution_count": 478,
   "id": "b505a2e7-bb86-494b-a635-5a3061bcf261",
   "metadata": {},
   "outputs": [
    {
     "name": "stdout",
     "output_type": "stream",
     "text": [
      "Classification Report for Test Data\n",
      "              precision    recall  f1-score   support\n",
      "\n",
      "         0.0       0.73      0.59      0.65        46\n",
      "         1.0       0.90      0.94      0.92       175\n",
      "\n",
      "    accuracy                           0.87       221\n",
      "   macro avg       0.81      0.76      0.78       221\n",
      "weighted avg       0.86      0.87      0.86       221\n",
      "\n"
     ]
    }
   ],
   "source": [
    "print(\"Classification Report for Test Data\")\n",
    "print(classification_report(ytest, rfc.predict(Xtest)))"
   ]
  },
  {
   "cell_type": "markdown",
   "id": "6b97b654-28dc-4b30-9d0f-21d2573d9ea6",
   "metadata": {},
   "source": [
    "Neural Network (100 parameters max since 1000 datapoints)"
   ]
  },
  {
   "cell_type": "code",
   "execution_count": 483,
   "id": "549efe3d-875d-4522-9545-90c95460e0f1",
   "metadata": {},
   "outputs": [],
   "source": [
    "import torch\n",
    "import torch.nn as nn\n",
    "import torch.optim as optim\n",
    "from sklearn.preprocessing import StandardScaler"
   ]
  },
  {
   "cell_type": "code",
   "execution_count": 515,
   "id": "2fdc5e25-1c5f-496d-9fea-05f469a95964",
   "metadata": {},
   "outputs": [
    {
     "name": "stdout",
     "output_type": "stream",
     "text": [
      "Number of parameters: 109\n",
      "Epoch [10/100], Loss: 0.5316\n",
      "Epoch [20/100], Loss: 0.4531\n",
      "Epoch [30/100], Loss: 0.4045\n",
      "Epoch [40/100], Loss: 0.3718\n",
      "Epoch [50/100], Loss: 0.3489\n",
      "Epoch [60/100], Loss: 0.3324\n",
      "Epoch [70/100], Loss: 0.3204\n",
      "Epoch [80/100], Loss: 0.3118\n",
      "Epoch [90/100], Loss: 0.3056\n",
      "Epoch [100/100], Loss: 0.3009\n",
      "Test Accuracy: 0.8778\n"
     ]
    }
   ],
   "source": [
    "# Normalize features\n",
    "scaler = StandardScaler()\n",
    "X_train = scaler.fit_transform(Xtrain)\n",
    "X_test = scaler.transform(Xtest)\n",
    "\n",
    "# Convert to PyTorch tensors\n",
    "X_train_tensor = torch.tensor(X_train, dtype=torch.float32)\n",
    "y_train_tensor = torch.tensor(ytrain.to_numpy(), dtype=torch.float32).unsqueeze(1)\n",
    "X_test_tensor = torch.tensor(X_test, dtype=torch.float32)\n",
    "y_test_tensor = torch.tensor(ytest.to_numpy(), dtype=torch.float32).unsqueeze(1)\n",
    "\n",
    "# Define a neural network with at most 110 parameters (a tenth of the observations)\n",
    "class SmallNet(nn.Module):\n",
    "    def __init__(self):\n",
    "        super(SmallNet, self).__init__()\n",
    "        self.fc1 = nn.Linear(7, 12)  \n",
    "        self.fc2 = nn.Linear(12, 1)  \n",
    "        self.sigmoid = nn.Sigmoid()\n",
    "\n",
    "    def forward(self, x):\n",
    "        x = self.fc1(x)\n",
    "        x = torch.relu(x)\n",
    "        x = self.fc2(x)\n",
    "        x = self.sigmoid(x)\n",
    "        return x\n",
    "\n",
    "# Check parameter count\n",
    "model = SmallNet()\n",
    "num_params = sum(p.numel() for p in model.parameters() if p.requires_grad)\n",
    "print(f\"Number of parameters: {num_params}\")\n",
    "\n",
    "# Ensure the number of parameters is within the limit\n",
    "assert num_params <= 110, \"Model exceeds 100 parameters!\"\n",
    "\n",
    "# Loss and optimizer\n",
    "criterion = nn.BCELoss()\n",
    "optimizer = optim.SGD(model.parameters(), lr=0.1)\n",
    "\n",
    "# Training loop\n",
    "epochs = 100\n",
    "for epoch in range(epochs):\n",
    "    # Forward pass\n",
    "    outputs = model(X_train_tensor)\n",
    "    loss = criterion(outputs, y_train_tensor)\n",
    "    \n",
    "    # Backward pass\n",
    "    optimizer.zero_grad()\n",
    "    loss.backward()\n",
    "    optimizer.step()\n",
    "    \n",
    "    if (epoch + 1) % 10 == 0:\n",
    "        print(f\"Epoch [{epoch + 1}/{epochs}], Loss: {loss.item():.4f}\")\n",
    "\n",
    "# Evaluate the model\n",
    "with torch.no_grad():\n",
    "    y_pred = model(X_test_tensor)\n",
    "    y_pred_class = (y_pred > 0.5).float()\n",
    "    accuracy = (y_pred_class == y_test_tensor).float().mean()\n",
    "    print(f\"Test Accuracy: {accuracy:.4f}\")"
   ]
  },
  {
   "cell_type": "markdown",
   "id": "555dcf51-c1af-4f5a-b6aa-bdf41c9c9661",
   "metadata": {},
   "source": [
    "All three models are close to 88% for accuracy, with the logistic regression having the best f1 score (.88).  The logistic regression wiht country information should move onto the modeling deployment stage."
   ]
  }
 ],
 "metadata": {
  "kernelspec": {
   "display_name": "Python 3 (ipykernel)",
   "language": "python",
   "name": "python3"
  },
  "language_info": {
   "codemirror_mode": {
    "name": "ipython",
    "version": 3
   },
   "file_extension": ".py",
   "mimetype": "text/x-python",
   "name": "python",
   "nbconvert_exporter": "python",
   "pygments_lexer": "ipython3",
   "version": "3.11.7"
  }
 },
 "nbformat": 4,
 "nbformat_minor": 5
}
